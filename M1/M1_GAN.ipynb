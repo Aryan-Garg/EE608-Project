{
  "cells": [
    {
      "cell_type": "markdown",
      "metadata": {
        "id": "i9JhNnBfzpEJ"
      },
      "source": [
        "# Generative Adversarial Networks   (Vanilla)\n",
        "\n",
        "> Goodfellow I, Pouget-Abadie J, Mirza M, Xu B, Warde-Farley D, Ozair S, Courville A, Bengio Yoshua"
      ]
    },
    {
      "cell_type": "code",
      "source": [
        "import numpy as np\n",
        "np.random.randint(0,32)"
      ],
      "metadata": {
        "colab": {
          "base_uri": "https://localhost:8080/"
        },
        "id": "tJUnLc1GVZiG",
        "outputId": "19181cac-10b8-4229-fa8b-97667af3ba97"
      },
      "execution_count": null,
      "outputs": [
        {
          "output_type": "execute_result",
          "data": {
            "text/plain": [
              "21"
            ]
          },
          "metadata": {},
          "execution_count": 3
        }
      ]
    },
    {
      "cell_type": "markdown",
      "metadata": {
        "id": "mclVncJozwdO"
      },
      "source": [
        "## 0A. Imports"
      ]
    },
    {
      "cell_type": "markdown",
      "source": [
        "#### **!! INTERACTIVE CELL !!**\n",
        "##### wandb Logger: Needs login key!"
      ],
      "metadata": {
        "id": "XDL0iXQdWR8t"
      }
    },
    {
      "cell_type": "code",
      "source": [
        "!pip -qqq install wandb pytorch-lightning torchmetrics\n",
        "\n",
        "import wandb\n",
        "from pytorch_lightning.loggers import WandbLogger\n",
        "\n",
        "wandb.login()\n",
        "\n",
        "# API Key:\n",
        "# d926baa25b6a14ffa4e5c30a6f3bbffbeca8fcf1"
      ],
      "metadata": {
        "colab": {
          "base_uri": "https://localhost:8080/"
        },
        "id": "CwWugcl83qQO",
        "outputId": "8dcffb0d-760d-4f92-c7c5-58b2a5e823ee"
      },
      "execution_count": null,
      "outputs": [
        {
          "output_type": "execute_result",
          "data": {
            "text/plain": [
              "True"
            ]
          },
          "metadata": {},
          "execution_count": 27
        }
      ]
    },
    {
      "cell_type": "code",
      "source": [
        "# Use in case wandb fails\n",
        "!wandb login --relogin"
      ],
      "metadata": {
        "colab": {
          "base_uri": "https://localhost:8080/"
        },
        "id": "59JTWnjGwGKF",
        "outputId": "483c42d9-a771-4865-ae4e-81a595eeeb26"
      },
      "execution_count": null,
      "outputs": [
        {
          "output_type": "stream",
          "name": "stdout",
          "text": [
            "\u001b[34m\u001b[1mwandb\u001b[0m: Logging into wandb.ai. (Learn how to deploy a W&B server locally: https://wandb.me/wandb-server)\n",
            "\u001b[34m\u001b[1mwandb\u001b[0m: You can find your API key in your browser here: https://wandb.ai/authorize\n",
            "\u001b[34m\u001b[1mwandb\u001b[0m: Paste an API key from your profile and hit enter, or press ctrl+c to quit: \n",
            "\u001b[34m\u001b[1mwandb\u001b[0m: Appending key for api.wandb.ai to your netrc file: /root/.netrc\n"
          ]
        }
      ]
    },
    {
      "cell_type": "markdown",
      "source": [
        "#### Pytorch-Lightning (Don't open... very large installation output)"
      ],
      "metadata": {
        "id": "70laTPYSWAyz"
      }
    },
    {
      "cell_type": "code",
      "source": [
        "try:\n",
        "  import lightning.pytorch as pl\n",
        "except:\n",
        "  print(\"[!] Couldn't find pytorch-lightning.\\nInstalling it...\\n\")\n",
        "  !pip install lightning\n",
        "  import lightning.pytorch as pl"
      ],
      "metadata": {
        "colab": {
          "base_uri": "https://localhost:8080/"
        },
        "id": "282MBcMo1xEw",
        "outputId": "9d670c43-4a1b-46be-91d5-b67724f8bef4"
      },
      "execution_count": null,
      "outputs": [
        {
          "output_type": "stream",
          "name": "stdout",
          "text": [
            "[!] Couldn't find pytorch-lightning.\n",
            "Installing it...\n",
            "\n",
            "Looking in indexes: https://pypi.org/simple, https://us-python.pkg.dev/colab-wheels/public/simple/\n",
            "Collecting lightning\n",
            "  Downloading lightning-2.0.1.post0-py3-none-any.whl (1.8 MB)\n",
            "\u001b[2K     \u001b[90m━━━━━━━━━━━━━━━━━━━━━━━━━━━━━━━━━━━━━━━━\u001b[0m \u001b[32m1.8/1.8 MB\u001b[0m \u001b[31m13.8 MB/s\u001b[0m eta \u001b[36m0:00:00\u001b[0m\n",
            "\u001b[?25hRequirement already satisfied: beautifulsoup4<6.0,>=4.8.0 in /usr/local/lib/python3.9/dist-packages (from lightning) (4.11.2)\n",
            "Requirement already satisfied: lightning-utilities<2.0,>=0.7.0 in /usr/local/lib/python3.9/dist-packages (from lightning) (0.8.0)\n",
            "Requirement already satisfied: typing-extensions<6.0,>=4.0.0 in /usr/local/lib/python3.9/dist-packages (from lightning) (4.5.0)\n",
            "Requirement already satisfied: pytorch-lightning in /usr/local/lib/python3.9/dist-packages (from lightning) (2.0.1.post0)\n",
            "Collecting inquirer<5.0,>=2.10.0\n",
            "  Downloading inquirer-3.1.3-py3-none-any.whl (18 kB)\n",
            "Requirement already satisfied: psutil<7.0 in /usr/local/lib/python3.9/dist-packages (from lightning) (5.9.5)\n",
            "Collecting lightning-cloud>=0.5.31\n",
            "  Downloading lightning_cloud-0.5.33-py3-none-any.whl (553 kB)\n",
            "\u001b[2K     \u001b[90m━━━━━━━━━━━━━━━━━━━━━━━━━━━━━━━━━━━━━━\u001b[0m \u001b[32m553.5/553.5 kB\u001b[0m \u001b[31m23.1 MB/s\u001b[0m eta \u001b[36m0:00:00\u001b[0m\n",
            "\u001b[?25hCollecting starlette<2.0\n",
            "  Downloading starlette-0.26.1-py3-none-any.whl (66 kB)\n",
            "\u001b[2K     \u001b[90m━━━━━━━━━━━━━━━━━━━━━━━━━━━━━━━━━━━━━━━━\u001b[0m \u001b[32m66.9/66.9 kB\u001b[0m \u001b[31m4.1 MB/s\u001b[0m eta \u001b[36m0:00:00\u001b[0m\n",
            "\u001b[?25hCollecting starsessions<2.0,>=1.2.1\n",
            "  Downloading starsessions-1.3.0-py3-none-any.whl (10 kB)\n",
            "Requirement already satisfied: websocket-client<3.0 in /usr/local/lib/python3.9/dist-packages (from lightning) (1.5.1)\n",
            "Requirement already satisfied: packaging in /usr/local/lib/python3.9/dist-packages (from lightning) (23.1)\n",
            "Requirement already satisfied: requests<4.0 in /usr/local/lib/python3.9/dist-packages (from lightning) (2.27.1)\n",
            "Requirement already satisfied: PyYAML<8.0,>=5.4 in /usr/local/lib/python3.9/dist-packages (from lightning) (6.0)\n",
            "Requirement already satisfied: click<10.0 in /usr/local/lib/python3.9/dist-packages (from lightning) (8.1.3)\n",
            "Requirement already satisfied: pydantic<3.0 in /usr/local/lib/python3.9/dist-packages (from lightning) (1.10.7)\n",
            "Collecting uvicorn<2.0\n",
            "  Downloading uvicorn-0.21.1-py3-none-any.whl (57 kB)\n",
            "\u001b[2K     \u001b[90m━━━━━━━━━━━━━━━━━━━━━━━━━━━━━━━━━━━━━━━━\u001b[0m \u001b[32m57.8/57.8 kB\u001b[0m \u001b[31m5.7 MB/s\u001b[0m eta \u001b[36m0:00:00\u001b[0m\n",
            "\u001b[?25hRequirement already satisfied: rich<15.0,>=12.3.0 in /usr/local/lib/python3.9/dist-packages (from lightning) (13.3.4)\n",
            "Requirement already satisfied: tqdm<6.0,>=4.57.0 in /usr/local/lib/python3.9/dist-packages (from lightning) (4.65.0)\n",
            "Requirement already satisfied: fsspec[http]<2025.0,>2021.06.0 in /usr/local/lib/python3.9/dist-packages (from lightning) (2023.4.0)\n",
            "Requirement already satisfied: Jinja2<5.0 in /usr/local/lib/python3.9/dist-packages (from lightning) (3.1.2)\n",
            "Requirement already satisfied: torch<4.0,>=1.11.0 in /usr/local/lib/python3.9/dist-packages (from lightning) (2.0.0+cu118)\n",
            "Requirement already satisfied: torchmetrics<2.0,>=0.7.0 in /usr/local/lib/python3.9/dist-packages (from lightning) (0.11.4)\n",
            "Requirement already satisfied: traitlets<7.0,>=5.3.0 in /usr/local/lib/python3.9/dist-packages (from lightning) (5.7.1)\n",
            "Requirement already satisfied: numpy<3.0,>=1.17.2 in /usr/local/lib/python3.9/dist-packages (from lightning) (1.22.4)\n",
            "Collecting dateutils<2.0\n",
            "  Downloading dateutils-0.6.12-py2.py3-none-any.whl (5.7 kB)\n",
            "Collecting deepdiff<8.0,>=5.7.0\n",
            "  Downloading deepdiff-6.3.0-py3-none-any.whl (69 kB)\n",
            "\u001b[2K     \u001b[90m━━━━━━━━━━━━━━━━━━━━━━━━━━━━━━━━━━━━━━━━\u001b[0m \u001b[32m69.7/69.7 kB\u001b[0m \u001b[31m7.4 MB/s\u001b[0m eta \u001b[36m0:00:00\u001b[0m\n",
            "\u001b[?25hCollecting websockets<12.0\n",
            "  Downloading websockets-11.0.2-cp39-cp39-manylinux_2_5_x86_64.manylinux1_x86_64.manylinux_2_17_x86_64.manylinux2014_x86_64.whl (129 kB)\n",
            "\u001b[2K     \u001b[90m━━━━━━━━━━━━━━━━━━━━━━━━━━━━━━━━━━━━━━\u001b[0m \u001b[32m129.7/129.7 kB\u001b[0m \u001b[31m15.0 MB/s\u001b[0m eta \u001b[36m0:00:00\u001b[0m\n",
            "\u001b[?25hRequirement already satisfied: urllib3<3.0 in /usr/local/lib/python3.9/dist-packages (from lightning) (1.26.15)\n",
            "Collecting arrow<3.0,>=1.2.0\n",
            "  Downloading arrow-1.2.3-py3-none-any.whl (66 kB)\n",
            "\u001b[2K     \u001b[90m━━━━━━━━━━━━━━━━━━━━━━━━━━━━━━━━━━━━━━━━\u001b[0m \u001b[32m66.4/66.4 kB\u001b[0m \u001b[31m7.3 MB/s\u001b[0m eta \u001b[36m0:00:00\u001b[0m\n",
            "\u001b[?25hCollecting croniter<1.4.0,>=1.3.0\n",
            "  Downloading croniter-1.3.14-py2.py3-none-any.whl (18 kB)\n",
            "Collecting fastapi<0.89.0\n",
            "  Downloading fastapi-0.88.0-py3-none-any.whl (55 kB)\n",
            "\u001b[2K     \u001b[90m━━━━━━━━━━━━━━━━━━━━━━━━━━━━━━━━━━━━━━━━\u001b[0m \u001b[32m55.5/55.5 kB\u001b[0m \u001b[31m6.1 MB/s\u001b[0m eta \u001b[36m0:00:00\u001b[0m\n",
            "\u001b[?25hRequirement already satisfied: python-dateutil>=2.7.0 in /usr/local/lib/python3.9/dist-packages (from arrow<3.0,>=1.2.0->lightning) (2.8.2)\n",
            "Requirement already satisfied: soupsieve>1.2 in /usr/local/lib/python3.9/dist-packages (from beautifulsoup4<6.0,>=4.8.0->lightning) (2.4.1)\n",
            "Requirement already satisfied: pytz in /usr/local/lib/python3.9/dist-packages (from dateutils<2.0->lightning) (2022.7.1)\n",
            "Collecting ordered-set<4.2.0,>=4.0.2\n",
            "  Downloading ordered_set-4.1.0-py3-none-any.whl (7.6 kB)\n",
            "Collecting starlette<2.0\n",
            "  Downloading starlette-0.22.0-py3-none-any.whl (64 kB)\n",
            "\u001b[2K     \u001b[90m━━━━━━━━━━━━━━━━━━━━━━━━━━━━━━━━━━━━━━━━\u001b[0m \u001b[32m64.3/64.3 kB\u001b[0m \u001b[31m3.4 MB/s\u001b[0m eta \u001b[36m0:00:00\u001b[0m\n",
            "\u001b[?25hRequirement already satisfied: anyio<5,>=3.4.0 in /usr/local/lib/python3.9/dist-packages (from starlette<2.0->lightning) (3.6.2)\n",
            "Requirement already satisfied: aiohttp!=4.0.0a0,!=4.0.0a1 in /usr/local/lib/python3.9/dist-packages (from fsspec[http]<2025.0,>2021.06.0->lightning) (3.8.4)\n",
            "Collecting python-editor>=1.0.4\n",
            "  Downloading python_editor-1.0.4-py3-none-any.whl (4.9 kB)\n",
            "Collecting readchar>=3.0.6\n",
            "  Downloading readchar-4.0.5-py3-none-any.whl (8.5 kB)\n",
            "Collecting blessed>=1.19.0\n",
            "  Downloading blessed-1.20.0-py2.py3-none-any.whl (58 kB)\n",
            "\u001b[2K     \u001b[90m━━━━━━━━━━━━━━━━━━━━━━━━━━━━━━━━━━━━━━━━\u001b[0m \u001b[32m58.4/58.4 kB\u001b[0m \u001b[31m3.9 MB/s\u001b[0m eta \u001b[36m0:00:00\u001b[0m\n",
            "\u001b[?25hRequirement already satisfied: MarkupSafe>=2.0 in /usr/local/lib/python3.9/dist-packages (from Jinja2<5.0->lightning) (2.1.2)\n",
            "Collecting python-multipart\n",
            "  Downloading python_multipart-0.0.6-py3-none-any.whl (45 kB)\n",
            "\u001b[2K     \u001b[90m━━━━━━━━━━━━━━━━━━━━━━━━━━━━━━━━━━━━━━━━\u001b[0m \u001b[32m45.7/45.7 kB\u001b[0m \u001b[31m5.2 MB/s\u001b[0m eta \u001b[36m0:00:00\u001b[0m\n",
            "\u001b[?25hCollecting pyjwt\n",
            "  Downloading PyJWT-2.6.0-py3-none-any.whl (20 kB)\n",
            "Requirement already satisfied: six in /usr/local/lib/python3.9/dist-packages (from lightning-cloud>=0.5.31->lightning) (1.16.0)\n",
            "Requirement already satisfied: idna<4,>=2.5 in /usr/local/lib/python3.9/dist-packages (from requests<4.0->lightning) (3.4)\n",
            "Requirement already satisfied: certifi>=2017.4.17 in /usr/local/lib/python3.9/dist-packages (from requests<4.0->lightning) (2022.12.7)\n",
            "Requirement already satisfied: charset-normalizer~=2.0.0 in /usr/local/lib/python3.9/dist-packages (from requests<4.0->lightning) (2.0.12)\n",
            "Requirement already satisfied: pygments<3.0.0,>=2.13.0 in /usr/local/lib/python3.9/dist-packages (from rich<15.0,>=12.3.0->lightning) (2.14.0)\n",
            "Requirement already satisfied: markdown-it-py<3.0.0,>=2.2.0 in /usr/local/lib/python3.9/dist-packages (from rich<15.0,>=12.3.0->lightning) (2.2.0)\n",
            "Requirement already satisfied: itsdangerous<3.0.0,>=2.0.1 in /usr/local/lib/python3.9/dist-packages (from starsessions<2.0,>=1.2.1->lightning) (2.1.2)\n",
            "Requirement already satisfied: filelock in /usr/local/lib/python3.9/dist-packages (from torch<4.0,>=1.11.0->lightning) (3.11.0)\n",
            "Requirement already satisfied: sympy in /usr/local/lib/python3.9/dist-packages (from torch<4.0,>=1.11.0->lightning) (1.11.1)\n",
            "Requirement already satisfied: triton==2.0.0 in /usr/local/lib/python3.9/dist-packages (from torch<4.0,>=1.11.0->lightning) (2.0.0)\n",
            "Requirement already satisfied: networkx in /usr/local/lib/python3.9/dist-packages (from torch<4.0,>=1.11.0->lightning) (3.1)\n",
            "Requirement already satisfied: cmake in /usr/local/lib/python3.9/dist-packages (from triton==2.0.0->torch<4.0,>=1.11.0->lightning) (3.25.2)\n",
            "Requirement already satisfied: lit in /usr/local/lib/python3.9/dist-packages (from triton==2.0.0->torch<4.0,>=1.11.0->lightning) (16.0.1)\n",
            "Collecting h11>=0.8\n",
            "  Downloading h11-0.14.0-py3-none-any.whl (58 kB)\n",
            "\u001b[2K     \u001b[90m━━━━━━━━━━━━━━━━━━━━━━━━━━━━━━━━━━━━━━━━\u001b[0m \u001b[32m58.3/58.3 kB\u001b[0m \u001b[31m6.7 MB/s\u001b[0m eta \u001b[36m0:00:00\u001b[0m\n",
            "\u001b[?25hRequirement already satisfied: yarl<2.0,>=1.0 in /usr/local/lib/python3.9/dist-packages (from aiohttp!=4.0.0a0,!=4.0.0a1->fsspec[http]<2025.0,>2021.06.0->lightning) (1.9.1)\n",
            "Requirement already satisfied: aiosignal>=1.1.2 in /usr/local/lib/python3.9/dist-packages (from aiohttp!=4.0.0a0,!=4.0.0a1->fsspec[http]<2025.0,>2021.06.0->lightning) (1.3.1)\n",
            "Requirement already satisfied: multidict<7.0,>=4.5 in /usr/local/lib/python3.9/dist-packages (from aiohttp!=4.0.0a0,!=4.0.0a1->fsspec[http]<2025.0,>2021.06.0->lightning) (6.0.4)\n",
            "Requirement already satisfied: frozenlist>=1.1.1 in /usr/local/lib/python3.9/dist-packages (from aiohttp!=4.0.0a0,!=4.0.0a1->fsspec[http]<2025.0,>2021.06.0->lightning) (1.3.3)\n",
            "Requirement already satisfied: async-timeout<5.0,>=4.0.0a3 in /usr/local/lib/python3.9/dist-packages (from aiohttp!=4.0.0a0,!=4.0.0a1->fsspec[http]<2025.0,>2021.06.0->lightning) (4.0.2)\n",
            "Requirement already satisfied: attrs>=17.3.0 in /usr/local/lib/python3.9/dist-packages (from aiohttp!=4.0.0a0,!=4.0.0a1->fsspec[http]<2025.0,>2021.06.0->lightning) (23.1.0)\n",
            "Requirement already satisfied: sniffio>=1.1 in /usr/local/lib/python3.9/dist-packages (from anyio<5,>=3.4.0->starlette<2.0->lightning) (1.3.0)\n",
            "Requirement already satisfied: wcwidth>=0.1.4 in /usr/local/lib/python3.9/dist-packages (from blessed>=1.19.0->inquirer<5.0,>=2.10.0->lightning) (0.2.6)\n",
            "Requirement already satisfied: mdurl~=0.1 in /usr/local/lib/python3.9/dist-packages (from markdown-it-py<3.0.0,>=2.2.0->rich<15.0,>=12.3.0->lightning) (0.1.2)\n",
            "Requirement already satisfied: setuptools>=41.0 in /usr/local/lib/python3.9/dist-packages (from readchar>=3.0.6->inquirer<5.0,>=2.10.0->lightning) (67.6.1)\n",
            "Requirement already satisfied: mpmath>=0.19 in /usr/local/lib/python3.9/dist-packages (from sympy->torch<4.0,>=1.11.0->lightning) (1.3.0)\n",
            "Installing collected packages: python-editor, websockets, readchar, python-multipart, pyjwt, ordered-set, h11, blessed, uvicorn, starlette, inquirer, deepdiff, dateutils, croniter, arrow, starsessions, fastapi, lightning-cloud, lightning\n",
            "Successfully installed arrow-1.2.3 blessed-1.20.0 croniter-1.3.14 dateutils-0.6.12 deepdiff-6.3.0 fastapi-0.88.0 h11-0.14.0 inquirer-3.1.3 lightning-2.0.1.post0 lightning-cloud-0.5.33 ordered-set-4.1.0 pyjwt-2.6.0 python-editor-1.0.4 python-multipart-0.0.6 readchar-4.0.5 starlette-0.22.0 starsessions-1.3.0 uvicorn-0.21.1 websockets-11.0.2\n"
          ]
        }
      ]
    },
    {
      "cell_type": "code",
      "source": [
        "from lightning.pytorch.utilities.model_summary import ModelSummary"
      ],
      "metadata": {
        "id": "AYATUpp6axqg"
      },
      "execution_count": null,
      "outputs": []
    },
    {
      "cell_type": "markdown",
      "source": [
        "#### Standard imports"
      ],
      "metadata": {
        "id": "mPp7Mq23WKU1"
      }
    },
    {
      "cell_type": "code",
      "execution_count": null,
      "metadata": {
        "id": "bSN1aR7uzvjR"
      },
      "outputs": [],
      "source": [
        "import os\n",
        "import shutil\n",
        "import pathlib\n",
        "\n",
        "import numpy as np\n",
        "import cv2 as cv\n",
        "import random\n",
        "import matplotlib.pyplot as plt\n",
        "from tqdm.auto import tqdm\n",
        "\n",
        "import torch\n",
        "import torch.nn as nn\n",
        "import torch.nn.functional as F\n",
        "from torch import optim\n",
        "\n",
        "from torch.utils.data import DataLoader, random_split\n",
        "from torch.utils.data import Dataset\n",
        "\n",
        "import torchvision\n",
        "from torchvision import datasets\n",
        "\n",
        "try:\n",
        "    from torchinfo import summary\n",
        "except:\n",
        "    print(\"[!] Couldn't find torchinfo... installing it.\")\n",
        "    !pip install -q torchinfo\n",
        "    from torchinfo import summary"
      ]
    },
    {
      "cell_type": "code",
      "source": [
        "from torchvision.transforms import Compose, ToTensor"
      ],
      "metadata": {
        "id": "9sfm-IiAwxGM"
      },
      "execution_count": null,
      "outputs": []
    },
    {
      "cell_type": "markdown",
      "source": [
        "#### Albumentations "
      ],
      "metadata": {
        "id": "k6m7pD-mWORV"
      }
    },
    {
      "cell_type": "code",
      "source": [
        "try:\n",
        "  import albumentations as A\n",
        "  from albumentations.pytorch import ToTensorV2\n",
        "except:\n",
        "  print(\"[!] Couldn't find albumentations... installing it.\")\n",
        "  !pip install -U albumentations\n",
        "  import albumentations as A\n",
        "  from albumentations.pytorch import ToTensorV2"
      ],
      "metadata": {
        "id": "CCWwCEfsxy01"
      },
      "execution_count": null,
      "outputs": []
    },
    {
      "cell_type": "code",
      "source": [
        "from pytorch_lightning import seed_everything"
      ],
      "metadata": {
        "id": "AEfrB45J2cEP"
      },
      "execution_count": null,
      "outputs": []
    },
    {
      "cell_type": "markdown",
      "source": [
        "#### Torchmetrics"
      ],
      "metadata": {
        "id": "0cQz4Elkdqxc"
      }
    },
    {
      "cell_type": "code",
      "source": [
        "try:\n",
        "  import torchmetrics\n",
        "except:\n",
        "  print(f\"[!] Torchmetrics couldn't be imported.\\nInstalling...\")\n",
        "  !pip install torchmetrics"
      ],
      "metadata": {
        "id": "Wozf1nS3ds8M"
      },
      "execution_count": null,
      "outputs": []
    },
    {
      "cell_type": "markdown",
      "source": [
        "#### Seeds (lightning)"
      ],
      "metadata": {
        "id": "YUJLDsz7tCGY"
      }
    },
    {
      "cell_type": "code",
      "source": [
        "seed_everything(42)"
      ],
      "metadata": {
        "colab": {
          "base_uri": "https://localhost:8080/"
        },
        "id": "VOWMTsBgsPBJ",
        "outputId": "f9acd6c2-8be7-4218-d66a-23410cd638d1"
      },
      "execution_count": null,
      "outputs": [
        {
          "output_type": "stream",
          "name": "stderr",
          "text": [
            "INFO:lightning_fabric.utilities.seed:Global seed set to 42\n"
          ]
        },
        {
          "output_type": "execute_result",
          "data": {
            "text/plain": [
              "42"
            ]
          },
          "metadata": {},
          "execution_count": 33
        }
      ]
    },
    {
      "cell_type": "markdown",
      "source": [
        "#### Device set up: "
      ],
      "metadata": {
        "id": "tMu80kTTPpE2"
      }
    },
    {
      "cell_type": "code",
      "source": [
        "# device = torch.device('cpu')\n",
        "if torch.cuda.is_available():\n",
        "  device = torch.device('cuda')\n",
        "else:\n",
        "  device = torch.device('cpu')"
      ],
      "metadata": {
        "id": "8f7lkMrEPSbp"
      },
      "execution_count": null,
      "outputs": []
    },
    {
      "cell_type": "markdown",
      "source": [
        "## 0B. Utilities"
      ],
      "metadata": {
        "id": "S3WZTglnYhFb"
      }
    },
    {
      "cell_type": "code",
      "source": [
        "# Folder Utilities ----------------------------\n",
        "\n",
        "## Create dir if it doesn't exist\n",
        "def create_dir(dir_name):\n",
        "  if not os.path.exists(f'/content/{dir_name}'):\n",
        "    os.mkdir(f'/content/{dir_name}')\n",
        "\n",
        "## Delete dir: checkpoints\n",
        "def delete_dir(dir_name):\n",
        "  if os.path.isdir(f'/content/{dir_name}'):\n",
        "    shutil.rmtree(f'/content/{dir_name}')\n",
        "\n",
        "# ---------------------------------------------"
      ],
      "metadata": {
        "id": "WEiHdJXQYjm8"
      },
      "execution_count": null,
      "outputs": []
    },
    {
      "cell_type": "markdown",
      "metadata": {
        "id": "9jU2TbElH8LF"
      },
      "source": [
        "## 1. Transforms & Datasets \n",
        "\n",
        "Dataset-1: FashionMNIST\n",
        "\n",
        "#### TODO: Play around with the transforms as experiments - Report"
      ]
    },
    {
      "cell_type": "markdown",
      "source": [
        "### Transforms"
      ],
      "metadata": {
        "id": "W1p_F21CWjB0"
      }
    },
    {
      "cell_type": "code",
      "source": [
        "train_transform = A.Compose(\n",
        "    [\n",
        "        A.SmallestMaxSize(max_size=160),\n",
        "        A.ShiftScaleRotate(shift_limit=0.05, scale_limit=0.05, rotate_limit=15, p=0.5),\n",
        "        A.RandomCrop(height=128, width=128),\n",
        "        A.RGBShift(r_shift_limit=15, g_shift_limit=15, b_shift_limit=15, p=0.5),\n",
        "        A.RandomBrightnessContrast(p=0.5),\n",
        "        A.Normalize(mean=(0.485, 0.456, 0.406), std=(0.229, 0.224, 0.225)),\n",
        "        ToTensorV2(),\n",
        "    ]\n",
        ")"
      ],
      "metadata": {
        "id": "lRUsBJJPwe6H"
      },
      "execution_count": null,
      "outputs": []
    },
    {
      "cell_type": "code",
      "source": [
        "test_transform = A.Compose([ToTensorV2()])"
      ],
      "metadata": {
        "id": "QNwmgSfZykx7"
      },
      "execution_count": null,
      "outputs": []
    },
    {
      "cell_type": "markdown",
      "source": [
        "### Dataset Download & Transformation"
      ],
      "metadata": {
        "id": "c766HVUCWn5P"
      }
    },
    {
      "cell_type": "code",
      "execution_count": null,
      "metadata": {
        "id": "6bIPN93lH6_u"
      },
      "outputs": [],
      "source": [
        "train_fashion = datasets.FashionMNIST(\n",
        "    root=\"data\",\n",
        "    train=True,\n",
        "    download=True,\n",
        "    transform=ToTensor(),\n",
        "    target_transform=None\n",
        ")\n",
        "\n",
        "train_fashion, val_fashion = random_split(train_fashion, [55000, 5000])\n",
        "\n",
        "test_fashion = datasets.FashionMNIST(\n",
        "    root=\"data\",\n",
        "    train=False,\n",
        "    download=True,\n",
        "    transform=ToTensor(),\n",
        "    target_transform=None\n",
        ")"
      ]
    },
    {
      "cell_type": "code",
      "source": [
        "print(\"Train samples:\", len(train_fashion), \"| Test samples:\" , len(test_fashion), \"| Val samples:\", len(val_fashion))"
      ],
      "metadata": {
        "colab": {
          "base_uri": "https://localhost:8080/"
        },
        "id": "bYKpiulzuxzt",
        "outputId": "15d15bac-6338-462d-a2e6-c0465688bd78"
      },
      "execution_count": null,
      "outputs": [
        {
          "output_type": "stream",
          "name": "stdout",
          "text": [
            "Train samples: 55000 | Test samples: 10000 | Val samples: 5000\n"
          ]
        }
      ]
    },
    {
      "cell_type": "markdown",
      "source": [
        "### Sanity Visualization"
      ],
      "metadata": {
        "id": "Ktux79DeWsM7"
      }
    },
    {
      "cell_type": "code",
      "source": [
        "labels_map = {i: x for i,x in enumerate(test_fashion.classes)}\n",
        "\n",
        "figure = plt.figure(figsize=(8, 8))\n",
        "cols, rows = 3, 3\n",
        "for i in range(1, cols * rows + 1):\n",
        "    sample_idx = torch.randint(len(train_fashion), size=(1,)).item()\n",
        "    img, label = train_fashion[sample_idx]\n",
        "    figure.add_subplot(rows, cols, i)\n",
        "    plt.title(labels_map[label])\n",
        "    plt.axis(\"off\")\n",
        "    plt.imshow(img.squeeze(), cmap=\"gray\")\n",
        "plt.show()"
      ],
      "metadata": {
        "colab": {
          "base_uri": "https://localhost:8080/",
          "height": 675
        },
        "id": "_296_bCJtqk0",
        "outputId": "050540ea-559c-42d5-8376-1b475585d777"
      },
      "execution_count": null,
      "outputs": [
        {
          "output_type": "display_data",
          "data": {
            "text/plain": [
              "<Figure size 800x800 with 9 Axes>"
            ],
            "image/png": "[encoded data removed]"
          },
          "metadata": {}
        }
      ]
    },
    {
      "cell_type": "markdown",
      "source": [
        "## 2. Dataloader:   \n",
        "\n",
        "Params:   \n",
        "> BS: *32* , Shuffle = *True*"
      ],
      "metadata": {
        "id": "2m_YBkbbuEkX"
      }
    },
    {
      "cell_type": "code",
      "source": [
        "train_dataloader = DataLoader(train_fashion, batch_size=32, shuffle=True)\n",
        "val_dataloader = DataLoader(val_fashion, batch_size=32, shuffle=True)\n",
        "test_dataloader = DataLoader(test_fashion, batch_size=32, shuffle=True)"
      ],
      "metadata": {
        "id": "8FTiz0WluGD4"
      },
      "execution_count": null,
      "outputs": []
    },
    {
      "cell_type": "markdown",
      "metadata": {
        "id": "W0WdA-ARICA2"
      },
      "source": [
        "## 3. Model Architecture"
      ]
    },
    {
      "cell_type": "markdown",
      "source": [
        "### Discriminator:"
      ],
      "metadata": {
        "id": "-bAehmW9S13o"
      }
    },
    {
      "cell_type": "code",
      "execution_count": null,
      "metadata": {
        "id": "iQ5wJXrvIEDT"
      },
      "outputs": [],
      "source": [
        "class Discriminator(nn.Module):\n",
        "  def __init__(self, img_shape):\n",
        "    super().__init__()\n",
        "\n",
        "    self.model = nn.Sequential(\n",
        "        nn.Linear(int(np.prod(img_shape)), 512),\n",
        "        nn.ReLU(inplace=True),\n",
        "        nn.Linear(512, 256),\n",
        "        nn.ReLU(inplace=True),\n",
        "        nn.Linear(256, 128),\n",
        "        nn.ReLU(inplace=True),   \n",
        "        nn.Linear(128,1),\n",
        "        nn.Sigmoid() \n",
        "    )\n",
        "  \n",
        "  def forward(self, x):\n",
        "    x = x.view(x.size(0), -1)\n",
        "    real_or_fake = self.model(x)\n",
        "    return real_or_fake"
      ]
    },
    {
      "cell_type": "markdown",
      "source": [
        "### Generator:"
      ],
      "metadata": {
        "id": "p6x-eynoS3rX"
      }
    },
    {
      "cell_type": "code",
      "source": [
        "class Generator(nn.Module):\n",
        "  def __init__(self, img_shape, latent_dim: int = 100):\n",
        "    super().__init__()\n",
        "\n",
        "    self.img_shape = img_shape\n",
        "\n",
        "    # Paper says nothing about batchNorm?\n",
        "    self.model = nn.Sequential(\n",
        "        nn.Linear(latent_dim, 128),\n",
        "        nn.ReLU(inplace=True),\n",
        "        nn.Linear(128, 256),\n",
        "        nn.ReLU(inplace=True),\n",
        "        nn.Linear(256, 512),\n",
        "        nn.ReLU(inplace=True),\n",
        "        nn.Linear(512, 784),\n",
        "        nn.Sigmoid()          # Implementation detail: As per paper\n",
        "    )\n",
        "  \n",
        "  def forward(self, z):\n",
        "    img = self.model(z)\n",
        "    img = img.view(img.size(0), *self.img_shape)\n",
        "    return img"
      ],
      "metadata": {
        "id": "U2lL4usaS6d_"
      },
      "execution_count": null,
      "outputs": []
    },
    {
      "cell_type": "markdown",
      "metadata": {
        "id": "prAOWe8GIEzT"
      },
      "source": [
        "## 4. Lightning Recipe for training & testing + Trainers"
      ]
    },
    {
      "cell_type": "markdown",
      "source": [
        "### Recipe"
      ],
      "metadata": {
        "id": "nBj4cfKBXBy1"
      }
    },
    {
      "cell_type": "code",
      "execution_count": null,
      "metadata": {
        "id": "bb6WQfNqIGVD"
      },
      "outputs": [],
      "source": [
        "class LIT_GAN(pl.LightningModule):\n",
        "  \n",
        "  def __init__(self, \n",
        "               discriminator_model, \n",
        "               generator_model, \n",
        "               latent_dim: int = 100, \n",
        "               lr: float = 0.003, \n",
        "               b1: float = 0.5, \n",
        "               b2: float = 0.999,\n",
        "               disc_steps: int = 1):\n",
        "    \n",
        "    super().__init__()\n",
        "    self.save_hyperparameters(ignore=[discriminator_model, generator_model])\n",
        "    self.automatic_optimization = False\n",
        "\n",
        "    self.discriminator = discriminator_model\n",
        "    self.generator = generator_model\n",
        "\n",
        "    self.validation_z = torch.randn(8, self.hparams.latent_dim)\n",
        "  \n",
        "  \n",
        "  def configure_optimizers(self):\n",
        "    lr = self.hparams.lr\n",
        "    b1 = self.hparams.b1\n",
        "    b2 = self.hparams.b2\n",
        "\n",
        "    optim_g = torch.optim.Adam(self.generator.parameters(), lr=lr, betas=(b1,b2))\n",
        "    optim_d = torch.optim.Adam(self.discriminator.parameters(), lr=lr, betas=(b1,b2))\n",
        "    \n",
        "    return [optim_g, optim_d], []\n",
        "\n",
        "\n",
        "  def forward(self, z):\n",
        "    return self.generator(z)\n",
        "\n",
        "\n",
        "  def adv_loss(self, prob, target):\n",
        "    loss = F.binary_cross_entropy(prob, target)\n",
        "    return loss\n",
        "\n",
        "\n",
        "  def training_step(self, batch, batch_idx):\n",
        "    imgs, _ = batch\n",
        "    # print(f\"{batch_idx}:: imgs.shape =\",imgs.shape)\n",
        "\n",
        "    opt_g, opt_d = self.optimizers()\n",
        "\n",
        "    z = torch.randn(imgs.shape[0], self.hparams.latent_dim) # N x Z_d\n",
        "    z = z.type_as(imgs)\n",
        "\n",
        "    fake_arr = torch.zeros(imgs.size(0), 1) # N: 0s\n",
        "    real_arr = torch.ones(imgs.size(0), 1) # N: 1s\n",
        "    # print(f\"Disc out shape:\", self.discriminator(self(z)).shape)\n",
        "    # Train G:\n",
        "    self.toggle_optimizer(opt_g)\n",
        "    \n",
        "    # Generator loss:\n",
        "    g_loss = self.adv_loss(self.discriminator(self(z)), real_arr) # Fooling the Disc: How Real is the fake output?\n",
        "\n",
        "    # Grad step:\n",
        "    self.log(\"g_loss\", g_loss, prog_bar=True)\n",
        "    self.manual_backward(g_loss)\n",
        "    opt_g.step()\n",
        "    opt_g.zero_grad()\n",
        "    self.untoggle_optimizer(opt_g)\n",
        "\n",
        "    # Train Discriminator\n",
        "    self.toggle_optimizer(opt_d)\n",
        "    \n",
        "    # Paper's proposition: To keep D at optimum discriminative power\n",
        "    # Train it 'k' steps (h-param)\n",
        "    # Experimentally k is kept at 1\n",
        "    \n",
        "    for i in range(self.hparams.disc_steps):\n",
        "      # Discriminator loss:\n",
        "      d_loss_real = self.adv_loss(self.discriminator(imgs), real_arr)\n",
        "      d_loss_fake = self.adv_loss(self.discriminator(self(z)), fake_arr)\n",
        "      d_loss = (d_loss_fake + d_loss_real) / 2\n",
        "\n",
        "      self.log(\"d_loss\", d_loss, prog_bar=True)\n",
        "      self.manual_backward(d_loss)\n",
        "      opt_d.step()\n",
        "      opt_d.zero_grad()\n",
        "    self.untoggle_optimizer(opt_d)\n",
        "\n",
        "\n",
        "    self.log_dict({\"g_loss\": g_loss, \"d_loss\": d_loss}, prog_bar=True)\n",
        "\n",
        "\n",
        "  def on_validation_epoch_end(self):\n",
        "    z = self.validation_z.type_as(self.generator.model[0].weight)\n",
        "    \n",
        "    # log sampled images\n",
        "    sample_imgs = self(z)\n",
        "    grid = torchvision.utils.make_grid(sample_imgs)\n",
        "    self.logger.experiment.add_image(\"generated_images\", grid, self.current_epoch)"
      ]
    },
    {
      "cell_type": "markdown",
      "source": [
        "### Recipe & trainer: initializations"
      ],
      "metadata": {
        "id": "pANi1TnwXESy"
      }
    },
    {
      "cell_type": "code",
      "source": [
        "sample_img, sample_target = next(iter(train_dataloader))\n",
        "sample_img.shape, sample_target.size()"
      ],
      "metadata": {
        "colab": {
          "base_uri": "https://localhost:8080/"
        },
        "id": "6aIO7Pr5rrft",
        "outputId": "dd0c6bf0-74b9-479b-b14f-636957e9c563"
      },
      "execution_count": null,
      "outputs": [
        {
          "output_type": "execute_result",
          "data": {
            "text/plain": [
              "(torch.Size([32, 1, 28, 28]), torch.Size([32]))"
            ]
          },
          "metadata": {},
          "execution_count": 90
        }
      ]
    },
    {
      "cell_type": "code",
      "source": [
        "van_gan = LIT_GAN(\n",
        "      Discriminator(img_shape=(sample_img.size(2), sample_img.size(3))), \n",
        "      Generator(img_shape=(sample_img.size(2), sample_img.size(3))), \n",
        "      lr=1e-3\n",
        "    )\n",
        "summary = ModelSummary(van_gan, max_depth=-1)\n",
        "print(summary)"
      ],
      "metadata": {
        "colab": {
          "base_uri": "https://localhost:8080/"
        },
        "id": "232-Wbo7UBI-",
        "outputId": "29a1330a-2b88-4699-bd31-363c1d751284"
      },
      "execution_count": null,
      "outputs": [
        {
          "output_type": "stream",
          "name": "stdout",
          "text": [
            "   | Name                  | Type          | Params\n",
            "---------------------------------------------------------\n",
            "0  | discriminator         | Discriminator | 566 K \n",
            "1  | discriminator.model   | Sequential    | 566 K \n",
            "2  | discriminator.model.0 | Linear        | 401 K \n",
            "3  | discriminator.model.1 | ReLU          | 0     \n",
            "4  | discriminator.model.2 | Linear        | 131 K \n",
            "5  | discriminator.model.3 | ReLU          | 0     \n",
            "6  | discriminator.model.4 | Linear        | 32.9 K\n",
            "7  | discriminator.model.5 | ReLU          | 0     \n",
            "8  | discriminator.model.6 | Linear        | 129   \n",
            "9  | discriminator.model.7 | Sigmoid       | 0     \n",
            "10 | generator             | Generator     | 579 K \n",
            "11 | generator.model       | Sequential    | 579 K \n",
            "12 | generator.model.0     | Linear        | 12.9 K\n",
            "13 | generator.model.1     | ReLU          | 0     \n",
            "14 | generator.model.2     | Linear        | 33.0 K\n",
            "15 | generator.model.3     | ReLU          | 0     \n",
            "16 | generator.model.4     | Linear        | 131 K \n",
            "17 | generator.model.5     | ReLU          | 0     \n",
            "18 | generator.model.6     | Linear        | 402 K \n",
            "19 | generator.model.7     | Sigmoid       | 0     \n",
            "---------------------------------------------------------\n",
            "1.1 M     Trainable params\n",
            "0         Non-trainable params\n",
            "1.1 M     Total params\n",
            "4.584     Total estimated model params size (MB)\n"
          ]
        },
        {
          "output_type": "stream",
          "name": "stderr",
          "text": [
            "/usr/local/lib/python3.9/dist-packages/lightning/pytorch/utilities/parsing.py:197: UserWarning: Attribute 'discriminator_model' is an instance of `nn.Module` and is already saved during checkpointing. It is recommended to ignore them using `self.save_hyperparameters(ignore=['discriminator_model'])`.\n",
            "  rank_zero_warn(\n",
            "/usr/local/lib/python3.9/dist-packages/lightning/pytorch/utilities/parsing.py:197: UserWarning: Attribute 'generator_model' is an instance of `nn.Module` and is already saved during checkpointing. It is recommended to ignore them using `self.save_hyperparameters(ignore=['generator_model'])`.\n",
            "  rank_zero_warn(\n"
          ]
        }
      ]
    },
    {
      "cell_type": "code",
      "source": [
        "delete_dir(\"van_gan_exps\")\n",
        "create_dir(\"van_gan_exps\")"
      ],
      "metadata": {
        "id": "AbWhTZRHXiXG"
      },
      "execution_count": null,
      "outputs": []
    },
    {
      "cell_type": "code",
      "source": [
        "wandb.finish()"
      ],
      "metadata": {
        "colab": {
          "base_uri": "https://localhost:8080/",
          "height": 150,
          "referenced_widgets": [
            "feb2085f0e594652b2b57d41f76cd766",
            "6bebf11365154e9aac46dcf85101cfa8",
            "a9e9d1b39215429ba385b74c0de26363",
            "87439e16a6a94ed4ba344c6c4d1778ea",
            "c0e8fb9bdfda44fe9eb651ada98b93a4",
            "07125528b7364a9bbee06d36556c4e3c",
            "123011ad367748a996f70502408e6202",
            "198f38e933ba4578b2277b9523c0c484"
          ]
        },
        "id": "rUYbcSxY3ypj",
        "outputId": "addfe684-c608-4fdd-96fd-9893cc30a110"
      },
      "execution_count": null,
      "outputs": [
        {
          "output_type": "display_data",
          "data": {
            "text/plain": [
              "<IPython.core.display.HTML object>"
            ],
            "text/html": [
              "Waiting for W&B process to finish... <strong style=\"color:green\">(success).</strong>"
            ]
          },
          "metadata": {}
        },
        {
          "output_type": "display_data",
          "data": {
            "text/plain": [
              "VBox(children=(Label(value='0.001 MB of 0.001 MB uploaded (0.000 MB deduped)\\r'), FloatProgress(value=1.0, max…"
            ],
            "application/vnd.jupyter.widget-view+json": {
              "version_major": 2,
              "version_minor": 0,
              "model_id": "feb2085f0e594652b2b57d41f76cd766"
            }
          },
          "metadata": {}
        },
        {
          "output_type": "display_data",
          "data": {
            "text/plain": [
              "<IPython.core.display.HTML object>"
            ],
            "text/html": [
              " View run <strong style=\"color:#cdcd00\">exp-1</strong> at: <a href='https://wandb.ai/aryangarg019/DIP/runs/w0kd9qgi' target=\"_blank\">https://wandb.ai/aryangarg019/DIP/runs/w0kd9qgi</a><br/>Synced 5 W&B file(s), 0 media file(s), 0 artifact file(s) and 0 other file(s)"
            ]
          },
          "metadata": {}
        },
        {
          "output_type": "display_data",
          "data": {
            "text/plain": [
              "<IPython.core.display.HTML object>"
            ],
            "text/html": [
              "Find logs at: <code>./wandb/run-20230423_064849-w0kd9qgi/logs</code>"
            ]
          },
          "metadata": {}
        }
      ]
    },
    {
      "cell_type": "code",
      "source": [
        "wandb_logger = WandbLogger(project=\"DIP\", name=\"full-sanity-exp-1\")"
      ],
      "metadata": {
        "colab": {
          "base_uri": "https://localhost:8080/",
          "height": 104
        },
        "id": "F4EiJ_s-wwzR",
        "outputId": "6bb261ef-d7c5-49ce-9a32-77c36a512233"
      },
      "execution_count": null,
      "outputs": [
        {
          "output_type": "display_data",
          "data": {
            "text/plain": [
              "<IPython.core.display.HTML object>"
            ],
            "text/html": [
              "Tracking run with wandb version 0.15.0"
            ]
          },
          "metadata": {}
        },
        {
          "output_type": "display_data",
          "data": {
            "text/plain": [
              "<IPython.core.display.HTML object>"
            ],
            "text/html": [
              "Run data is saved locally in <code>./wandb/run-20230423_065037-gtv2ym5t</code>"
            ]
          },
          "metadata": {}
        },
        {
          "output_type": "display_data",
          "data": {
            "text/plain": [
              "<IPython.core.display.HTML object>"
            ],
            "text/html": [
              "Syncing run <strong><a href='https://wandb.ai/aryangarg019/DIP/runs/gtv2ym5t' target=\"_blank\">full-sanity-exp-1</a></strong> to <a href='https://wandb.ai/aryangarg019/DIP' target=\"_blank\">Weights & Biases</a> (<a href='https://wandb.me/run' target=\"_blank\">docs</a>)<br/>"
            ]
          },
          "metadata": {}
        },
        {
          "output_type": "display_data",
          "data": {
            "text/plain": [
              "<IPython.core.display.HTML object>"
            ],
            "text/html": [
              " View project at <a href='https://wandb.ai/aryangarg019/DIP' target=\"_blank\">https://wandb.ai/aryangarg019/DIP</a>"
            ]
          },
          "metadata": {}
        },
        {
          "output_type": "display_data",
          "data": {
            "text/plain": [
              "<IPython.core.display.HTML object>"
            ],
            "text/html": [
              " View run at <a href='https://wandb.ai/aryangarg019/DIP/runs/gtv2ym5t' target=\"_blank\">https://wandb.ai/aryangarg019/DIP/runs/gtv2ym5t</a>"
            ]
          },
          "metadata": {}
        }
      ]
    },
    {
      "cell_type": "code",
      "source": [
        "# train model\n",
        "from lightning.pytorch.callbacks import DeviceStatsMonitor, TQDMProgressBar\n",
        "\n",
        "trainer = pl.Trainer(default_root_dir=\"/content/van_gan_exps/\", \n",
        "                     fast_dev_run=False,\n",
        "                     logger=wandb_logger,   # wandb <3\n",
        "                     log_every_n_steps=1,   # set the logging frequency\n",
        "                     accelerator='auto',\n",
        "                     devices=\"auto\",        # all\n",
        "                     max_epochs=5,          # number of epochs\n",
        "                     deterministic=True,    # keep it deterministic\n",
        "                     callbacks=[TQDMProgressBar(refresh_rate=10)],\n",
        "                     )"
      ],
      "metadata": {
        "colab": {
          "base_uri": "https://localhost:8080/"
        },
        "id": "HTbAs0txwsDO",
        "outputId": "3d353763-360c-40e0-e08f-1929b7d123f5"
      },
      "execution_count": null,
      "outputs": [
        {
          "output_type": "stream",
          "name": "stderr",
          "text": [
            "INFO: GPU available: False, used: False\n",
            "INFO:lightning.pytorch.utilities.rank_zero:GPU available: False, used: False\n",
            "INFO: TPU available: False, using: 0 TPU cores\n",
            "INFO:lightning.pytorch.utilities.rank_zero:TPU available: False, using: 0 TPU cores\n",
            "INFO: IPU available: False, using: 0 IPUs\n",
            "INFO:lightning.pytorch.utilities.rank_zero:IPU available: False, using: 0 IPUs\n",
            "INFO: HPU available: False, using: 0 HPUs\n",
            "INFO:lightning.pytorch.utilities.rank_zero:HPU available: False, using: 0 HPUs\n"
          ]
        }
      ]
    },
    {
      "cell_type": "markdown",
      "source": [
        "#### Training:"
      ],
      "metadata": {
        "id": "8zxlTdrLkXfl"
      }
    },
    {
      "cell_type": "code",
      "source": [
        "# Train model:\n",
        "trainer.fit(van_gan, train_dataloader, val_dataloader)"
      ],
      "metadata": {
        "colab": {
          "base_uri": "https://localhost:8080/",
          "height": 431,
          "referenced_widgets": [
            "f99f735cf8614af89cf788b3b7cee795",
            "6b15afd4000d4be68a23bcfa8c717556",
            "a1e66fb205a4475ba8e0dcdc764cbc02",
            "56bdd4fca35343ac8a5a8a0cb5914c69",
            "dbae98ca648a436dbe83a7836f86dda8",
            "c9916fe7884846e390e07c16b5a07f02",
            "4be9fd22e1bd4055a60485e92ef4b37b",
            "a9c0f083283f48d8b69324352e0ab7b5",
            "325b253d11ff4534af1c4e30b60035e5",
            "2175f5b1909c4802a56bc40bc56ef58f",
            "6a6f039053d04f1f954cc4ec05b35b95"
          ]
        },
        "id": "Q4L4AfKudcBi",
        "outputId": "46b42935-feeb-485f-d354-422496db44b6"
      },
      "execution_count": null,
      "outputs": [
        {
          "output_type": "stream",
          "name": "stderr",
          "text": [
            "INFO: \n",
            "  | Name          | Type          | Params\n",
            "------------------------------------------------\n",
            "0 | discriminator | Discriminator | 566 K \n",
            "1 | generator     | Generator     | 579 K \n",
            "------------------------------------------------\n",
            "1.1 M     Trainable params\n",
            "0         Non-trainable params\n",
            "1.1 M     Total params\n",
            "4.584     Total estimated model params size (MB)\n",
            "INFO:lightning.pytorch.callbacks.model_summary:\n",
            "  | Name          | Type          | Params\n",
            "------------------------------------------------\n",
            "0 | discriminator | Discriminator | 566 K \n",
            "1 | generator     | Generator     | 579 K \n",
            "------------------------------------------------\n",
            "1.1 M     Trainable params\n",
            "0         Non-trainable params\n",
            "1.1 M     Total params\n",
            "4.584     Total estimated model params size (MB)\n"
          ]
        },
        {
          "output_type": "display_data",
          "data": {
            "text/plain": [
              "Training: 0it [00:00, ?it/s]"
            ],
            "application/vnd.jupyter.widget-view+json": {
              "version_major": 2,
              "version_minor": 0,
              "model_id": "f99f735cf8614af89cf788b3b7cee795"
            }
          },
          "metadata": {}
        },
        {
          "output_type": "stream",
          "name": "stderr",
          "text": [
            "INFO: `Trainer.fit` stopped: `max_epochs=5` reached.\n",
            "INFO:lightning.pytorch.utilities.rank_zero:`Trainer.fit` stopped: `max_epochs=5` reached.\n"
          ]
        }
      ]
    },
    {
      "cell_type": "code",
      "source": [
        "wandb.finish()"
      ],
      "metadata": {
        "colab": {
          "base_uri": "https://localhost:8080/",
          "height": 150,
          "referenced_widgets": [
            "682c7382311948358607a2fb9d62fe72",
            "423d7a5d209645cdb955dc5e10ca0ffe",
            "b41e9a1d26594984aa7ea3e5853b002b",
            "66aea049a8d64f3a9459ec1b9eaa3c57",
            "99d3fe808ea34062ab038987c750e46c",
            "d03210a87c1144ea891f2c46a543ba1d",
            "e6d2e1d874e541efbe8f953538cd985c",
            "58ecb84647474e4a84abef5641bbf88c"
          ]
        },
        "id": "WamyyguQisCG",
        "outputId": "290ceb43-1d4b-479e-a4ba-df8c89aed17a"
      },
      "execution_count": null,
      "outputs": [
        {
          "output_type": "display_data",
          "data": {
            "text/plain": [
              "<IPython.core.display.HTML object>"
            ],
            "text/html": [
              "Waiting for W&B process to finish... <strong style=\"color:green\">(success).</strong>"
            ]
          },
          "metadata": {}
        },
        {
          "output_type": "display_data",
          "data": {
            "text/plain": [
              "VBox(children=(Label(value='0.001 MB of 0.001 MB uploaded (0.000 MB deduped)\\r'), FloatProgress(value=1.0, max…"
            ],
            "application/vnd.jupyter.widget-view+json": {
              "version_major": 2,
              "version_minor": 0,
              "model_id": "682c7382311948358607a2fb9d62fe72"
            }
          },
          "metadata": {}
        },
        {
          "output_type": "display_data",
          "data": {
            "text/plain": [
              "<IPython.core.display.HTML object>"
            ],
            "text/html": [
              " View run <strong style=\"color:#cdcd00\">peachy-pine-1</strong> at: <a href='https://wandb.ai/smartathon/lit-van-gan/runs/lq426ilv' target=\"_blank\">https://wandb.ai/smartathon/lit-van-gan/runs/lq426ilv</a><br/>Synced 5 W&B file(s), 0 media file(s), 0 artifact file(s) and 0 other file(s)"
            ]
          },
          "metadata": {}
        },
        {
          "output_type": "display_data",
          "data": {
            "text/plain": [
              "<IPython.core.display.HTML object>"
            ],
            "text/html": [
              "Find logs at: <code>./wandb/run-20230423_062644-lq426ilv/logs</code>"
            ]
          },
          "metadata": {}
        }
      ]
    },
    {
      "cell_type": "markdown",
      "metadata": {
        "id": "5og-kg3TIIrr"
      },
      "source": [
        "## 5. Evaluation + Synthesized: Printing & Display?\n"
      ]
    },
    {
      "cell_type": "code",
      "execution_count": null,
      "metadata": {
        "id": "jexhZyUmILgj"
      },
      "outputs": [],
      "source": []
    }
  ],
  "metadata": {
    "colab": {
      "provenance": []
    },
    "kernelspec": {
      "display_name": "Python 3",
      "name": "python3"
    },
    "language_info": {
      "name": "python"
    },
    "widgets": {
      "application/vnd.jupyter.widget-state+json": {
        "feb2085f0e594652b2b57d41f76cd766": {
          "model_module": "@jupyter-widgets/controls",
          "model_name": "VBoxModel",
          "model_module_version": "1.5.0",
          "state": {
            "_dom_classes": [],
            "_model_module": "@jupyter-widgets/controls",
            "_model_module_version": "1.5.0",
            "_model_name": "VBoxModel",
            "_view_count": null,
            "_view_module": "@jupyter-widgets/controls",
            "_view_module_version": "1.5.0",
            "_view_name": "VBoxView",
            "box_style": "",
            "children": [
              "IPY_MODEL_6bebf11365154e9aac46dcf85101cfa8",
              "IPY_MODEL_a9e9d1b39215429ba385b74c0de26363"
            ],
            "layout": "IPY_MODEL_87439e16a6a94ed4ba344c6c4d1778ea"
          }
        },
        "6bebf11365154e9aac46dcf85101cfa8": {
          "model_module": "@jupyter-widgets/controls",
          "model_name": "LabelModel",
          "model_module_version": "1.5.0",
          "state": {
            "_dom_classes": [],
            "_model_module": "@jupyter-widgets/controls",
            "_model_module_version": "1.5.0",
            "_model_name": "LabelModel",
            "_view_count": null,
            "_view_module": "@jupyter-widgets/controls",
            "_view_module_version": "1.5.0",
            "_view_name": "LabelView",
            "description": "",
            "description_tooltip": null,
            "layout": "IPY_MODEL_c0e8fb9bdfda44fe9eb651ada98b93a4",
            "placeholder": "​",
            "style": "IPY_MODEL_07125528b7364a9bbee06d36556c4e3c",
            "value": "0.001 MB of 0.001 MB uploaded (0.000 MB deduped)\r"
          }
        },
        "a9e9d1b39215429ba385b74c0de26363": {
          "model_module": "@jupyter-widgets/controls",
          "model_name": "FloatProgressModel",
          "model_module_version": "1.5.0",
          "state": {
            "_dom_classes": [],
            "_model_module": "@jupyter-widgets/controls",
            "_model_module_version": "1.5.0",
            "_model_name": "FloatProgressModel",
            "_view_count": null,
            "_view_module": "@jupyter-widgets/controls",
            "_view_module_version": "1.5.0",
            "_view_name": "ProgressView",
            "bar_style": "",
            "description": "",
            "description_tooltip": null,
            "layout": "IPY_MODEL_123011ad367748a996f70502408e6202",
            "max": 1,
            "min": 0,
            "orientation": "horizontal",
            "style": "IPY_MODEL_198f38e933ba4578b2277b9523c0c484",
            "value": 1
          }
        },
        "87439e16a6a94ed4ba344c6c4d1778ea": {
          "model_module": "@jupyter-widgets/base",
          "model_name": "LayoutModel",
          "model_module_version": "1.2.0",
          "state": {
            "_model_module": "@jupyter-widgets/base",
            "_model_module_version": "1.2.0",
            "_model_name": "LayoutModel",
            "_view_count": null,
            "_view_module": "@jupyter-widgets/base",
            "_view_module_version": "1.2.0",
            "_view_name": "LayoutView",
            "align_content": null,
            "align_items": null,
            "align_self": null,
            "border": null,
            "bottom": null,
            "display": null,
            "flex": null,
            "flex_flow": null,
            "grid_area": null,
            "grid_auto_columns": null,
            "grid_auto_flow": null,
            "grid_auto_rows": null,
            "grid_column": null,
            "grid_gap": null,
            "grid_row": null,
            "grid_template_areas": null,
            "grid_template_columns": null,
            "grid_template_rows": null,
            "height": null,
            "justify_content": null,
            "justify_items": null,
            "left": null,
            "margin": null,
            "max_height": null,
            "max_width": null,
            "min_height": null,
            "min_width": null,
            "object_fit": null,
            "object_position": null,
            "order": null,
            "overflow": null,
            "overflow_x": null,
            "overflow_y": null,
            "padding": null,
            "right": null,
            "top": null,
            "visibility": null,
            "width": null
          }
        },
        "c0e8fb9bdfda44fe9eb651ada98b93a4": {
          "model_module": "@jupyter-widgets/base",
          "model_name": "LayoutModel",
          "model_module_version": "1.2.0",
          "state": {
            "_model_module": "@jupyter-widgets/base",
            "_model_module_version": "1.2.0",
            "_model_name": "LayoutModel",
            "_view_count": null,
            "_view_module": "@jupyter-widgets/base",
            "_view_module_version": "1.2.0",
            "_view_name": "LayoutView",
            "align_content": null,
            "align_items": null,
            "align_self": null,
            "border": null,
            "bottom": null,
            "display": null,
            "flex": null,
            "flex_flow": null,
            "grid_area": null,
            "grid_auto_columns": null,
            "grid_auto_flow": null,
            "grid_auto_rows": null,
            "grid_column": null,
            "grid_gap": null,
            "grid_row": null,
            "grid_template_areas": null,
            "grid_template_columns": null,
            "grid_template_rows": null,
            "height": null,
            "justify_content": null,
            "justify_items": null,
            "left": null,
            "margin": null,
            "max_height": null,
            "max_width": null,
            "min_height": null,
            "min_width": null,
            "object_fit": null,
            "object_position": null,
            "order": null,
            "overflow": null,
            "overflow_x": null,
            "overflow_y": null,
            "padding": null,
            "right": null,
            "top": null,
            "visibility": null,
            "width": null
          }
        },
        "07125528b7364a9bbee06d36556c4e3c": {
          "model_module": "@jupyter-widgets/controls",
          "model_name": "DescriptionStyleModel",
          "model_module_version": "1.5.0",
          "state": {
            "_model_module": "@jupyter-widgets/controls",
            "_model_module_version": "1.5.0",
            "_model_name": "DescriptionStyleModel",
            "_view_count": null,
            "_view_module": "@jupyter-widgets/base",
            "_view_module_version": "1.2.0",
            "_view_name": "StyleView",
            "description_width": ""
          }
        },
        "123011ad367748a996f70502408e6202": {
          "model_module": "@jupyter-widgets/base",
          "model_name": "LayoutModel",
          "model_module_version": "1.2.0",
          "state": {
            "_model_module": "@jupyter-widgets/base",
            "_model_module_version": "1.2.0",
            "_model_name": "LayoutModel",
            "_view_count": null,
            "_view_module": "@jupyter-widgets/base",
            "_view_module_version": "1.2.0",
            "_view_name": "LayoutView",
            "align_content": null,
            "align_items": null,
            "align_self": null,
            "border": null,
            "bottom": null,
            "display": null,
            "flex": null,
            "flex_flow": null,
            "grid_area": null,
            "grid_auto_columns": null,
            "grid_auto_flow": null,
            "grid_auto_rows": null,
            "grid_column": null,
            "grid_gap": null,
            "grid_row": null,
            "grid_template_areas": null,
            "grid_template_columns": null,
            "grid_template_rows": null,
            "height": null,
            "justify_content": null,
            "justify_items": null,
            "left": null,
            "margin": null,
            "max_height": null,
            "max_width": null,
            "min_height": null,
            "min_width": null,
            "object_fit": null,
            "object_position": null,
            "order": null,
            "overflow": null,
            "overflow_x": null,
            "overflow_y": null,
            "padding": null,
            "right": null,
            "top": null,
            "visibility": null,
            "width": null
          }
        },
        "198f38e933ba4578b2277b9523c0c484": {
          "model_module": "@jupyter-widgets/controls",
          "model_name": "ProgressStyleModel",
          "model_module_version": "1.5.0",
          "state": {
            "_model_module": "@jupyter-widgets/controls",
            "_model_module_version": "1.5.0",
            "_model_name": "ProgressStyleModel",
            "_view_count": null,
            "_view_module": "@jupyter-widgets/base",
            "_view_module_version": "1.2.0",
            "_view_name": "StyleView",
            "bar_color": null,
            "description_width": ""
          }
        },
        "f99f735cf8614af89cf788b3b7cee795": {
          "model_module": "@jupyter-widgets/controls",
          "model_name": "HBoxModel",
          "model_module_version": "1.5.0",
          "state": {
            "_dom_classes": [],
            "_model_module": "@jupyter-widgets/controls",
            "_model_module_version": "1.5.0",
            "_model_name": "HBoxModel",
            "_view_count": null,
            "_view_module": "@jupyter-widgets/controls",
            "_view_module_version": "1.5.0",
            "_view_name": "HBoxView",
            "box_style": "",
            "children": [
              "IPY_MODEL_6b15afd4000d4be68a23bcfa8c717556",
              "IPY_MODEL_a1e66fb205a4475ba8e0dcdc764cbc02",
              "IPY_MODEL_56bdd4fca35343ac8a5a8a0cb5914c69"
            ],
            "layout": "IPY_MODEL_dbae98ca648a436dbe83a7836f86dda8"
          }
        },
        "6b15afd4000d4be68a23bcfa8c717556": {
          "model_module": "@jupyter-widgets/controls",
          "model_name": "HTMLModel",
          "model_module_version": "1.5.0",
          "state": {
            "_dom_classes": [],
            "_model_module": "@jupyter-widgets/controls",
            "_model_module_version": "1.5.0",
            "_model_name": "HTMLModel",
            "_view_count": null,
            "_view_module": "@jupyter-widgets/controls",
            "_view_module_version": "1.5.0",
            "_view_name": "HTMLView",
            "description": "",
            "description_tooltip": null,
            "layout": "IPY_MODEL_c9916fe7884846e390e07c16b5a07f02",
            "placeholder": "​",
            "style": "IPY_MODEL_4be9fd22e1bd4055a60485e92ef4b37b",
            "value": "Epoch 4: 100%"
          }
        },
        "a1e66fb205a4475ba8e0dcdc764cbc02": {
          "model_module": "@jupyter-widgets/controls",
          "model_name": "FloatProgressModel",
          "model_module_version": "1.5.0",
          "state": {
            "_dom_classes": [],
            "_model_module": "@jupyter-widgets/controls",
            "_model_module_version": "1.5.0",
            "_model_name": "FloatProgressModel",
            "_view_count": null,
            "_view_module": "@jupyter-widgets/controls",
            "_view_module_version": "1.5.0",
            "_view_name": "ProgressView",
            "bar_style": "success",
            "description": "",
            "description_tooltip": null,
            "layout": "IPY_MODEL_a9c0f083283f48d8b69324352e0ab7b5",
            "max": 1719,
            "min": 0,
            "orientation": "horizontal",
            "style": "IPY_MODEL_325b253d11ff4534af1c4e30b60035e5",
            "value": 1719
          }
        },
        "56bdd4fca35343ac8a5a8a0cb5914c69": {
          "model_module": "@jupyter-widgets/controls",
          "model_name": "HTMLModel",
          "model_module_version": "1.5.0",
          "state": {
            "_dom_classes": [],
            "_model_module": "@jupyter-widgets/controls",
            "_model_module_version": "1.5.0",
            "_model_name": "HTMLModel",
            "_view_count": null,
            "_view_module": "@jupyter-widgets/controls",
            "_view_module_version": "1.5.0",
            "_view_name": "HTMLView",
            "description": "",
            "description_tooltip": null,
            "layout": "IPY_MODEL_2175f5b1909c4802a56bc40bc56ef58f",
            "placeholder": "​",
            "style": "IPY_MODEL_6a6f039053d04f1f954cc4ec05b35b95",
            "value": " 1719/1719 [01:09&lt;00:00, 24.80it/s, v_num=ym5t, g_loss=0.791, d_loss=0.671]"
          }
        },
        "dbae98ca648a436dbe83a7836f86dda8": {
          "model_module": "@jupyter-widgets/base",
          "model_name": "LayoutModel",
          "model_module_version": "1.2.0",
          "state": {
            "_model_module": "@jupyter-widgets/base",
            "_model_module_version": "1.2.0",
            "_model_name": "LayoutModel",
            "_view_count": null,
            "_view_module": "@jupyter-widgets/base",
            "_view_module_version": "1.2.0",
            "_view_name": "LayoutView",
            "align_content": null,
            "align_items": null,
            "align_self": null,
            "border": null,
            "bottom": null,
            "display": "inline-flex",
            "flex": null,
            "flex_flow": "row wrap",
            "grid_area": null,
            "grid_auto_columns": null,
            "grid_auto_flow": null,
            "grid_auto_rows": null,
            "grid_column": null,
            "grid_gap": null,
            "grid_row": null,
            "grid_template_areas": null,
            "grid_template_columns": null,
            "grid_template_rows": null,
            "height": null,
            "justify_content": null,
            "justify_items": null,
            "left": null,
            "margin": null,
            "max_height": null,
            "max_width": null,
            "min_height": null,
            "min_width": null,
            "object_fit": null,
            "object_position": null,
            "order": null,
            "overflow": null,
            "overflow_x": null,
            "overflow_y": null,
            "padding": null,
            "right": null,
            "top": null,
            "visibility": null,
            "width": "100%"
          }
        },
        "c9916fe7884846e390e07c16b5a07f02": {
          "model_module": "@jupyter-widgets/base",
          "model_name": "LayoutModel",
          "model_module_version": "1.2.0",
          "state": {
            "_model_module": "@jupyter-widgets/base",
            "_model_module_version": "1.2.0",
            "_model_name": "LayoutModel",
            "_view_count": null,
            "_view_module": "@jupyter-widgets/base",
            "_view_module_version": "1.2.0",
            "_view_name": "LayoutView",
            "align_content": null,
            "align_items": null,
            "align_self": null,
            "border": null,
            "bottom": null,
            "display": null,
            "flex": null,
            "flex_flow": null,
            "grid_area": null,
            "grid_auto_columns": null,
            "grid_auto_flow": null,
            "grid_auto_rows": null,
            "grid_column": null,
            "grid_gap": null,
            "grid_row": null,
            "grid_template_areas": null,
            "grid_template_columns": null,
            "grid_template_rows": null,
            "height": null,
            "justify_content": null,
            "justify_items": null,
            "left": null,
            "margin": null,
            "max_height": null,
            "max_width": null,
            "min_height": null,
            "min_width": null,
            "object_fit": null,
            "object_position": null,
            "order": null,
            "overflow": null,
            "overflow_x": null,
            "overflow_y": null,
            "padding": null,
            "right": null,
            "top": null,
            "visibility": null,
            "width": null
          }
        },
        "4be9fd22e1bd4055a60485e92ef4b37b": {
          "model_module": "@jupyter-widgets/controls",
          "model_name": "DescriptionStyleModel",
          "model_module_version": "1.5.0",
          "state": {
            "_model_module": "@jupyter-widgets/controls",
            "_model_module_version": "1.5.0",
            "_model_name": "DescriptionStyleModel",
            "_view_count": null,
            "_view_module": "@jupyter-widgets/base",
            "_view_module_version": "1.2.0",
            "_view_name": "StyleView",
            "description_width": ""
          }
        },
        "a9c0f083283f48d8b69324352e0ab7b5": {
          "model_module": "@jupyter-widgets/base",
          "model_name": "LayoutModel",
          "model_module_version": "1.2.0",
          "state": {
            "_model_module": "@jupyter-widgets/base",
            "_model_module_version": "1.2.0",
            "_model_name": "LayoutModel",
            "_view_count": null,
            "_view_module": "@jupyter-widgets/base",
            "_view_module_version": "1.2.0",
            "_view_name": "LayoutView",
            "align_content": null,
            "align_items": null,
            "align_self": null,
            "border": null,
            "bottom": null,
            "display": null,
            "flex": "2",
            "flex_flow": null,
            "grid_area": null,
            "grid_auto_columns": null,
            "grid_auto_flow": null,
            "grid_auto_rows": null,
            "grid_column": null,
            "grid_gap": null,
            "grid_row": null,
            "grid_template_areas": null,
            "grid_template_columns": null,
            "grid_template_rows": null,
            "height": null,
            "justify_content": null,
            "justify_items": null,
            "left": null,
            "margin": null,
            "max_height": null,
            "max_width": null,
            "min_height": null,
            "min_width": null,
            "object_fit": null,
            "object_position": null,
            "order": null,
            "overflow": null,
            "overflow_x": null,
            "overflow_y": null,
            "padding": null,
            "right": null,
            "top": null,
            "visibility": null,
            "width": null
          }
        },
        "325b253d11ff4534af1c4e30b60035e5": {
          "model_module": "@jupyter-widgets/controls",
          "model_name": "ProgressStyleModel",
          "model_module_version": "1.5.0",
          "state": {
            "_model_module": "@jupyter-widgets/controls",
            "_model_module_version": "1.5.0",
            "_model_name": "ProgressStyleModel",
            "_view_count": null,
            "_view_module": "@jupyter-widgets/base",
            "_view_module_version": "1.2.0",
            "_view_name": "StyleView",
            "bar_color": null,
            "description_width": ""
          }
        },
        "2175f5b1909c4802a56bc40bc56ef58f": {
          "model_module": "@jupyter-widgets/base",
          "model_name": "LayoutModel",
          "model_module_version": "1.2.0",
          "state": {
            "_model_module": "@jupyter-widgets/base",
            "_model_module_version": "1.2.0",
            "_model_name": "LayoutModel",
            "_view_count": null,
            "_view_module": "@jupyter-widgets/base",
            "_view_module_version": "1.2.0",
            "_view_name": "LayoutView",
            "align_content": null,
            "align_items": null,
            "align_self": null,
            "border": null,
            "bottom": null,
            "display": null,
            "flex": null,
            "flex_flow": null,
            "grid_area": null,
            "grid_auto_columns": null,
            "grid_auto_flow": null,
            "grid_auto_rows": null,
            "grid_column": null,
            "grid_gap": null,
            "grid_row": null,
            "grid_template_areas": null,
            "grid_template_columns": null,
            "grid_template_rows": null,
            "height": null,
            "justify_content": null,
            "justify_items": null,
            "left": null,
            "margin": null,
            "max_height": null,
            "max_width": null,
            "min_height": null,
            "min_width": null,
            "object_fit": null,
            "object_position": null,
            "order": null,
            "overflow": null,
            "overflow_x": null,
            "overflow_y": null,
            "padding": null,
            "right": null,
            "top": null,
            "visibility": null,
            "width": null
          }
        },
        "6a6f039053d04f1f954cc4ec05b35b95": {
          "model_module": "@jupyter-widgets/controls",
          "model_name": "DescriptionStyleModel",
          "model_module_version": "1.5.0",
          "state": {
            "_model_module": "@jupyter-widgets/controls",
            "_model_module_version": "1.5.0",
            "_model_name": "DescriptionStyleModel",
            "_view_count": null,
            "_view_module": "@jupyter-widgets/base",
            "_view_module_version": "1.2.0",
            "_view_name": "StyleView",
            "description_width": ""
          }
        },
        "682c7382311948358607a2fb9d62fe72": {
          "model_module": "@jupyter-widgets/controls",
          "model_name": "VBoxModel",
          "model_module_version": "1.5.0",
          "state": {
            "_dom_classes": [],
            "_model_module": "@jupyter-widgets/controls",
            "_model_module_version": "1.5.0",
            "_model_name": "VBoxModel",
            "_view_count": null,
            "_view_module": "@jupyter-widgets/controls",
            "_view_module_version": "1.5.0",
            "_view_name": "VBoxView",
            "box_style": "",
            "children": [
              "IPY_MODEL_423d7a5d209645cdb955dc5e10ca0ffe",
              "IPY_MODEL_b41e9a1d26594984aa7ea3e5853b002b"
            ],
            "layout": "IPY_MODEL_66aea049a8d64f3a9459ec1b9eaa3c57"
          }
        },
        "423d7a5d209645cdb955dc5e10ca0ffe": {
          "model_module": "@jupyter-widgets/controls",
          "model_name": "LabelModel",
          "model_module_version": "1.5.0",
          "state": {
            "_dom_classes": [],
            "_model_module": "@jupyter-widgets/controls",
            "_model_module_version": "1.5.0",
            "_model_name": "LabelModel",
            "_view_count": null,
            "_view_module": "@jupyter-widgets/controls",
            "_view_module_version": "1.5.0",
            "_view_name": "LabelView",
            "description": "",
            "description_tooltip": null,
            "layout": "IPY_MODEL_99d3fe808ea34062ab038987c750e46c",
            "placeholder": "​",
            "style": "IPY_MODEL_d03210a87c1144ea891f2c46a543ba1d",
            "value": "0.001 MB of 0.001 MB uploaded (0.000 MB deduped)\r"
          }
        },
        "b41e9a1d26594984aa7ea3e5853b002b": {
          "model_module": "@jupyter-widgets/controls",
          "model_name": "FloatProgressModel",
          "model_module_version": "1.5.0",
          "state": {
            "_dom_classes": [],
            "_model_module": "@jupyter-widgets/controls",
            "_model_module_version": "1.5.0",
            "_model_name": "FloatProgressModel",
            "_view_count": null,
            "_view_module": "@jupyter-widgets/controls",
            "_view_module_version": "1.5.0",
            "_view_name": "ProgressView",
            "bar_style": "",
            "description": "",
            "description_tooltip": null,
            "layout": "IPY_MODEL_e6d2e1d874e541efbe8f953538cd985c",
            "max": 1,
            "min": 0,
            "orientation": "horizontal",
            "style": "IPY_MODEL_58ecb84647474e4a84abef5641bbf88c",
            "value": 1
          }
        },
        "66aea049a8d64f3a9459ec1b9eaa3c57": {
          "model_module": "@jupyter-widgets/base",
          "model_name": "LayoutModel",
          "model_module_version": "1.2.0",
          "state": {
            "_model_module": "@jupyter-widgets/base",
            "_model_module_version": "1.2.0",
            "_model_name": "LayoutModel",
            "_view_count": null,
            "_view_module": "@jupyter-widgets/base",
            "_view_module_version": "1.2.0",
            "_view_name": "LayoutView",
            "align_content": null,
            "align_items": null,
            "align_self": null,
            "border": null,
            "bottom": null,
            "display": null,
            "flex": null,
            "flex_flow": null,
            "grid_area": null,
            "grid_auto_columns": null,
            "grid_auto_flow": null,
            "grid_auto_rows": null,
            "grid_column": null,
            "grid_gap": null,
            "grid_row": null,
            "grid_template_areas": null,
            "grid_template_columns": null,
            "grid_template_rows": null,
            "height": null,
            "justify_content": null,
            "justify_items": null,
            "left": null,
            "margin": null,
            "max_height": null,
            "max_width": null,
            "min_height": null,
            "min_width": null,
            "object_fit": null,
            "object_position": null,
            "order": null,
            "overflow": null,
            "overflow_x": null,
            "overflow_y": null,
            "padding": null,
            "right": null,
            "top": null,
            "visibility": null,
            "width": null
          }
        },
        "99d3fe808ea34062ab038987c750e46c": {
          "model_module": "@jupyter-widgets/base",
          "model_name": "LayoutModel",
          "model_module_version": "1.2.0",
          "state": {
            "_model_module": "@jupyter-widgets/base",
            "_model_module_version": "1.2.0",
            "_model_name": "LayoutModel",
            "_view_count": null,
            "_view_module": "@jupyter-widgets/base",
            "_view_module_version": "1.2.0",
            "_view_name": "LayoutView",
            "align_content": null,
            "align_items": null,
            "align_self": null,
            "border": null,
            "bottom": null,
            "display": null,
            "flex": null,
            "flex_flow": null,
            "grid_area": null,
            "grid_auto_columns": null,
            "grid_auto_flow": null,
            "grid_auto_rows": null,
            "grid_column": null,
            "grid_gap": null,
            "grid_row": null,
            "grid_template_areas": null,
            "grid_template_columns": null,
            "grid_template_rows": null,
            "height": null,
            "justify_content": null,
            "justify_items": null,
            "left": null,
            "margin": null,
            "max_height": null,
            "max_width": null,
            "min_height": null,
            "min_width": null,
            "object_fit": null,
            "object_position": null,
            "order": null,
            "overflow": null,
            "overflow_x": null,
            "overflow_y": null,
            "padding": null,
            "right": null,
            "top": null,
            "visibility": null,
            "width": null
          }
        },
        "d03210a87c1144ea891f2c46a543ba1d": {
          "model_module": "@jupyter-widgets/controls",
          "model_name": "DescriptionStyleModel",
          "model_module_version": "1.5.0",
          "state": {
            "_model_module": "@jupyter-widgets/controls",
            "_model_module_version": "1.5.0",
            "_model_name": "DescriptionStyleModel",
            "_view_count": null,
            "_view_module": "@jupyter-widgets/base",
            "_view_module_version": "1.2.0",
            "_view_name": "StyleView",
            "description_width": ""
          }
        },
        "e6d2e1d874e541efbe8f953538cd985c": {
          "model_module": "@jupyter-widgets/base",
          "model_name": "LayoutModel",
          "model_module_version": "1.2.0",
          "state": {
            "_model_module": "@jupyter-widgets/base",
            "_model_module_version": "1.2.0",
            "_model_name": "LayoutModel",
            "_view_count": null,
            "_view_module": "@jupyter-widgets/base",
            "_view_module_version": "1.2.0",
            "_view_name": "LayoutView",
            "align_content": null,
            "align_items": null,
            "align_self": null,
            "border": null,
            "bottom": null,
            "display": null,
            "flex": null,
            "flex_flow": null,
            "grid_area": null,
            "grid_auto_columns": null,
            "grid_auto_flow": null,
            "grid_auto_rows": null,
            "grid_column": null,
            "grid_gap": null,
            "grid_row": null,
            "grid_template_areas": null,
            "grid_template_columns": null,
            "grid_template_rows": null,
            "height": null,
            "justify_content": null,
            "justify_items": null,
            "left": null,
            "margin": null,
            "max_height": null,
            "max_width": null,
            "min_height": null,
            "min_width": null,
            "object_fit": null,
            "object_position": null,
            "order": null,
            "overflow": null,
            "overflow_x": null,
            "overflow_y": null,
            "padding": null,
            "right": null,
            "top": null,
            "visibility": null,
            "width": null
          }
        },
        "58ecb84647474e4a84abef5641bbf88c": {
          "model_module": "@jupyter-widgets/controls",
          "model_name": "ProgressStyleModel",
          "model_module_version": "1.5.0",
          "state": {
            "_model_module": "@jupyter-widgets/controls",
            "_model_module_version": "1.5.0",
            "_model_name": "ProgressStyleModel",
            "_view_count": null,
            "_view_module": "@jupyter-widgets/base",
            "_view_module_version": "1.2.0",
            "_view_name": "StyleView",
            "bar_color": null,
            "description_width": ""
          }
        }
      }
    }
  },
  "nbformat": 4,
  "nbformat_minor": 0
}
