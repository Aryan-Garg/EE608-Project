{
  "nbformat": 4,
  "nbformat_minor": 0,
  "metadata": {
    "colab": {
      "provenance": []
    },
    "kernelspec": {
      "name": "python3",
      "display_name": "Python 3"
    },
    "language_info": {
      "name": "python"
    },
    "accelerator": "GPU",
    "gpuClass": "standard",
    "widgets": {
      "application/vnd.jupyter.widget-state+json": {
        "c107f7bdc4a14bbfb0b4214f3bd402b2": {
          "model_module": "@jupyter-widgets/controls",
          "model_name": "HBoxModel",
          "model_module_version": "1.5.0",
          "state": {
            "_dom_classes": [],
            "_model_module": "@jupyter-widgets/controls",
            "_model_module_version": "1.5.0",
            "_model_name": "HBoxModel",
            "_view_count": null,
            "_view_module": "@jupyter-widgets/controls",
            "_view_module_version": "1.5.0",
            "_view_name": "HBoxView",
            "box_style": "",
            "children": [
              "IPY_MODEL_46ad1f81a5f04c37b2049078cf792781",
              "IPY_MODEL_f4c4d63aaeb74e1e9e535dd4b9df1a95",
              "IPY_MODEL_5d4c6e6a6ba04f4a9410f993f7c95a78"
            ],
            "layout": "IPY_MODEL_8c8200d4cdd841b78594d0d5600d882d"
          }
        },
        "46ad1f81a5f04c37b2049078cf792781": {
          "model_module": "@jupyter-widgets/controls",
          "model_name": "HTMLModel",
          "model_module_version": "1.5.0",
          "state": {
            "_dom_classes": [],
            "_model_module": "@jupyter-widgets/controls",
            "_model_module_version": "1.5.0",
            "_model_name": "HTMLModel",
            "_view_count": null,
            "_view_module": "@jupyter-widgets/controls",
            "_view_module_version": "1.5.0",
            "_view_name": "HTMLView",
            "description": "",
            "description_tooltip": null,
            "layout": "IPY_MODEL_4561993334bd42bc95bc87c878ba04d8",
            "placeholder": "​",
            "style": "IPY_MODEL_15c8b3a9274e42c7a0c338428f2102ca",
            "value": "Epoch 4: 100%"
          }
        },
        "f4c4d63aaeb74e1e9e535dd4b9df1a95": {
          "model_module": "@jupyter-widgets/controls",
          "model_name": "FloatProgressModel",
          "model_module_version": "1.5.0",
          "state": {
            "_dom_classes": [],
            "_model_module": "@jupyter-widgets/controls",
            "_model_module_version": "1.5.0",
            "_model_name": "FloatProgressModel",
            "_view_count": null,
            "_view_module": "@jupyter-widgets/controls",
            "_view_module_version": "1.5.0",
            "_view_name": "ProgressView",
            "bar_style": "success",
            "description": "",
            "description_tooltip": null,
            "layout": "IPY_MODEL_ac3b380a49304319b23d3fe9f1b2f575",
            "max": 938,
            "min": 0,
            "orientation": "horizontal",
            "style": "IPY_MODEL_fba31e0c981e46bcaf48acde9214b219",
            "value": 938
          }
        },
        "5d4c6e6a6ba04f4a9410f993f7c95a78": {
          "model_module": "@jupyter-widgets/controls",
          "model_name": "HTMLModel",
          "model_module_version": "1.5.0",
          "state": {
            "_dom_classes": [],
            "_model_module": "@jupyter-widgets/controls",
            "_model_module_version": "1.5.0",
            "_model_name": "HTMLModel",
            "_view_count": null,
            "_view_module": "@jupyter-widgets/controls",
            "_view_module_version": "1.5.0",
            "_view_name": "HTMLView",
            "description": "",
            "description_tooltip": null,
            "layout": "IPY_MODEL_7d35a3881b1546adbc25976d749bc0b9",
            "placeholder": "​",
            "style": "IPY_MODEL_3371d8c5be574626850532667605b343",
            "value": " 938/938 [00:58&lt;00:00, 16.10it/s, v_num=yt2r, g_loss_step=-.273, d_loss_step=-.232, g_loss_epoch=-.040, d_loss_epoch=-.192]"
          }
        },
        "8c8200d4cdd841b78594d0d5600d882d": {
          "model_module": "@jupyter-widgets/base",
          "model_name": "LayoutModel",
          "model_module_version": "1.2.0",
          "state": {
            "_model_module": "@jupyter-widgets/base",
            "_model_module_version": "1.2.0",
            "_model_name": "LayoutModel",
            "_view_count": null,
            "_view_module": "@jupyter-widgets/base",
            "_view_module_version": "1.2.0",
            "_view_name": "LayoutView",
            "align_content": null,
            "align_items": null,
            "align_self": null,
            "border": null,
            "bottom": null,
            "display": "inline-flex",
            "flex": null,
            "flex_flow": "row wrap",
            "grid_area": null,
            "grid_auto_columns": null,
            "grid_auto_flow": null,
            "grid_auto_rows": null,
            "grid_column": null,
            "grid_gap": null,
            "grid_row": null,
            "grid_template_areas": null,
            "grid_template_columns": null,
            "grid_template_rows": null,
            "height": null,
            "justify_content": null,
            "justify_items": null,
            "left": null,
            "margin": null,
            "max_height": null,
            "max_width": null,
            "min_height": null,
            "min_width": null,
            "object_fit": null,
            "object_position": null,
            "order": null,
            "overflow": null,
            "overflow_x": null,
            "overflow_y": null,
            "padding": null,
            "right": null,
            "top": null,
            "visibility": null,
            "width": "100%"
          }
        },
        "4561993334bd42bc95bc87c878ba04d8": {
          "model_module": "@jupyter-widgets/base",
          "model_name": "LayoutModel",
          "model_module_version": "1.2.0",
          "state": {
            "_model_module": "@jupyter-widgets/base",
            "_model_module_version": "1.2.0",
            "_model_name": "LayoutModel",
            "_view_count": null,
            "_view_module": "@jupyter-widgets/base",
            "_view_module_version": "1.2.0",
            "_view_name": "LayoutView",
            "align_content": null,
            "align_items": null,
            "align_self": null,
            "border": null,
            "bottom": null,
            "display": null,
            "flex": null,
            "flex_flow": null,
            "grid_area": null,
            "grid_auto_columns": null,
            "grid_auto_flow": null,
            "grid_auto_rows": null,
            "grid_column": null,
            "grid_gap": null,
            "grid_row": null,
            "grid_template_areas": null,
            "grid_template_columns": null,
            "grid_template_rows": null,
            "height": null,
            "justify_content": null,
            "justify_items": null,
            "left": null,
            "margin": null,
            "max_height": null,
            "max_width": null,
            "min_height": null,
            "min_width": null,
            "object_fit": null,
            "object_position": null,
            "order": null,
            "overflow": null,
            "overflow_x": null,
            "overflow_y": null,
            "padding": null,
            "right": null,
            "top": null,
            "visibility": null,
            "width": null
          }
        },
        "15c8b3a9274e42c7a0c338428f2102ca": {
          "model_module": "@jupyter-widgets/controls",
          "model_name": "DescriptionStyleModel",
          "model_module_version": "1.5.0",
          "state": {
            "_model_module": "@jupyter-widgets/controls",
            "_model_module_version": "1.5.0",
            "_model_name": "DescriptionStyleModel",
            "_view_count": null,
            "_view_module": "@jupyter-widgets/base",
            "_view_module_version": "1.2.0",
            "_view_name": "StyleView",
            "description_width": ""
          }
        },
        "ac3b380a49304319b23d3fe9f1b2f575": {
          "model_module": "@jupyter-widgets/base",
          "model_name": "LayoutModel",
          "model_module_version": "1.2.0",
          "state": {
            "_model_module": "@jupyter-widgets/base",
            "_model_module_version": "1.2.0",
            "_model_name": "LayoutModel",
            "_view_count": null,
            "_view_module": "@jupyter-widgets/base",
            "_view_module_version": "1.2.0",
            "_view_name": "LayoutView",
            "align_content": null,
            "align_items": null,
            "align_self": null,
            "border": null,
            "bottom": null,
            "display": null,
            "flex": "2",
            "flex_flow": null,
            "grid_area": null,
            "grid_auto_columns": null,
            "grid_auto_flow": null,
            "grid_auto_rows": null,
            "grid_column": null,
            "grid_gap": null,
            "grid_row": null,
            "grid_template_areas": null,
            "grid_template_columns": null,
            "grid_template_rows": null,
            "height": null,
            "justify_content": null,
            "justify_items": null,
            "left": null,
            "margin": null,
            "max_height": null,
            "max_width": null,
            "min_height": null,
            "min_width": null,
            "object_fit": null,
            "object_position": null,
            "order": null,
            "overflow": null,
            "overflow_x": null,
            "overflow_y": null,
            "padding": null,
            "right": null,
            "top": null,
            "visibility": null,
            "width": null
          }
        },
        "fba31e0c981e46bcaf48acde9214b219": {
          "model_module": "@jupyter-widgets/controls",
          "model_name": "ProgressStyleModel",
          "model_module_version": "1.5.0",
          "state": {
            "_model_module": "@jupyter-widgets/controls",
            "_model_module_version": "1.5.0",
            "_model_name": "ProgressStyleModel",
            "_view_count": null,
            "_view_module": "@jupyter-widgets/base",
            "_view_module_version": "1.2.0",
            "_view_name": "StyleView",
            "bar_color": null,
            "description_width": ""
          }
        },
        "7d35a3881b1546adbc25976d749bc0b9": {
          "model_module": "@jupyter-widgets/base",
          "model_name": "LayoutModel",
          "model_module_version": "1.2.0",
          "state": {
            "_model_module": "@jupyter-widgets/base",
            "_model_module_version": "1.2.0",
            "_model_name": "LayoutModel",
            "_view_count": null,
            "_view_module": "@jupyter-widgets/base",
            "_view_module_version": "1.2.0",
            "_view_name": "LayoutView",
            "align_content": null,
            "align_items": null,
            "align_self": null,
            "border": null,
            "bottom": null,
            "display": null,
            "flex": null,
            "flex_flow": null,
            "grid_area": null,
            "grid_auto_columns": null,
            "grid_auto_flow": null,
            "grid_auto_rows": null,
            "grid_column": null,
            "grid_gap": null,
            "grid_row": null,
            "grid_template_areas": null,
            "grid_template_columns": null,
            "grid_template_rows": null,
            "height": null,
            "justify_content": null,
            "justify_items": null,
            "left": null,
            "margin": null,
            "max_height": null,
            "max_width": null,
            "min_height": null,
            "min_width": null,
            "object_fit": null,
            "object_position": null,
            "order": null,
            "overflow": null,
            "overflow_x": null,
            "overflow_y": null,
            "padding": null,
            "right": null,
            "top": null,
            "visibility": null,
            "width": null
          }
        },
        "3371d8c5be574626850532667605b343": {
          "model_module": "@jupyter-widgets/controls",
          "model_name": "DescriptionStyleModel",
          "model_module_version": "1.5.0",
          "state": {
            "_model_module": "@jupyter-widgets/controls",
            "_model_module_version": "1.5.0",
            "_model_name": "DescriptionStyleModel",
            "_view_count": null,
            "_view_module": "@jupyter-widgets/base",
            "_view_module_version": "1.2.0",
            "_view_name": "StyleView",
            "description_width": ""
          }
        },
        "a864d9a2fd9944879a81fdbb1a05f37d": {
          "model_module": "@jupyter-widgets/controls",
          "model_name": "VBoxModel",
          "model_module_version": "1.5.0",
          "state": {
            "_dom_classes": [],
            "_model_module": "@jupyter-widgets/controls",
            "_model_module_version": "1.5.0",
            "_model_name": "VBoxModel",
            "_view_count": null,
            "_view_module": "@jupyter-widgets/controls",
            "_view_module_version": "1.5.0",
            "_view_name": "VBoxView",
            "box_style": "",
            "children": [
              "IPY_MODEL_06d4afa84c7c414fb3001e0aadba6979",
              "IPY_MODEL_c3c02cd343254b81b7f9143d92f38f6d"
            ],
            "layout": "IPY_MODEL_66285ca0595646e08dd075e957337fbb"
          }
        },
        "06d4afa84c7c414fb3001e0aadba6979": {
          "model_module": "@jupyter-widgets/controls",
          "model_name": "LabelModel",
          "model_module_version": "1.5.0",
          "state": {
            "_dom_classes": [],
            "_model_module": "@jupyter-widgets/controls",
            "_model_module_version": "1.5.0",
            "_model_name": "LabelModel",
            "_view_count": null,
            "_view_module": "@jupyter-widgets/controls",
            "_view_module_version": "1.5.0",
            "_view_name": "LabelView",
            "description": "",
            "description_tooltip": null,
            "layout": "IPY_MODEL_d740c575bd604ce9ac841609b362b427",
            "placeholder": "​",
            "style": "IPY_MODEL_ee0ba344b2e14a28b97a442c5e0ce133",
            "value": "8.498 MB of 11.824 MB uploaded (0.000 MB deduped)\r"
          }
        },
        "c3c02cd343254b81b7f9143d92f38f6d": {
          "model_module": "@jupyter-widgets/controls",
          "model_name": "FloatProgressModel",
          "model_module_version": "1.5.0",
          "state": {
            "_dom_classes": [],
            "_model_module": "@jupyter-widgets/controls",
            "_model_module_version": "1.5.0",
            "_model_name": "FloatProgressModel",
            "_view_count": null,
            "_view_module": "@jupyter-widgets/controls",
            "_view_module_version": "1.5.0",
            "_view_name": "ProgressView",
            "bar_style": "",
            "description": "",
            "description_tooltip": null,
            "layout": "IPY_MODEL_83a3161f2def49d2a0bfedd6b708ce75",
            "max": 1,
            "min": 0,
            "orientation": "horizontal",
            "style": "IPY_MODEL_32e403390dd84bbebbdf69184ec0be9e",
            "value": 0.7186777652196784
          }
        },
        "66285ca0595646e08dd075e957337fbb": {
          "model_module": "@jupyter-widgets/base",
          "model_name": "LayoutModel",
          "model_module_version": "1.2.0",
          "state": {
            "_model_module": "@jupyter-widgets/base",
            "_model_module_version": "1.2.0",
            "_model_name": "LayoutModel",
            "_view_count": null,
            "_view_module": "@jupyter-widgets/base",
            "_view_module_version": "1.2.0",
            "_view_name": "LayoutView",
            "align_content": null,
            "align_items": null,
            "align_self": null,
            "border": null,
            "bottom": null,
            "display": null,
            "flex": null,
            "flex_flow": null,
            "grid_area": null,
            "grid_auto_columns": null,
            "grid_auto_flow": null,
            "grid_auto_rows": null,
            "grid_column": null,
            "grid_gap": null,
            "grid_row": null,
            "grid_template_areas": null,
            "grid_template_columns": null,
            "grid_template_rows": null,
            "height": null,
            "justify_content": null,
            "justify_items": null,
            "left": null,
            "margin": null,
            "max_height": null,
            "max_width": null,
            "min_height": null,
            "min_width": null,
            "object_fit": null,
            "object_position": null,
            "order": null,
            "overflow": null,
            "overflow_x": null,
            "overflow_y": null,
            "padding": null,
            "right": null,
            "top": null,
            "visibility": null,
            "width": null
          }
        },
        "d740c575bd604ce9ac841609b362b427": {
          "model_module": "@jupyter-widgets/base",
          "model_name": "LayoutModel",
          "model_module_version": "1.2.0",
          "state": {
            "_model_module": "@jupyter-widgets/base",
            "_model_module_version": "1.2.0",
            "_model_name": "LayoutModel",
            "_view_count": null,
            "_view_module": "@jupyter-widgets/base",
            "_view_module_version": "1.2.0",
            "_view_name": "LayoutView",
            "align_content": null,
            "align_items": null,
            "align_self": null,
            "border": null,
            "bottom": null,
            "display": null,
            "flex": null,
            "flex_flow": null,
            "grid_area": null,
            "grid_auto_columns": null,
            "grid_auto_flow": null,
            "grid_auto_rows": null,
            "grid_column": null,
            "grid_gap": null,
            "grid_row": null,
            "grid_template_areas": null,
            "grid_template_columns": null,
            "grid_template_rows": null,
            "height": null,
            "justify_content": null,
            "justify_items": null,
            "left": null,
            "margin": null,
            "max_height": null,
            "max_width": null,
            "min_height": null,
            "min_width": null,
            "object_fit": null,
            "object_position": null,
            "order": null,
            "overflow": null,
            "overflow_x": null,
            "overflow_y": null,
            "padding": null,
            "right": null,
            "top": null,
            "visibility": null,
            "width": null
          }
        },
        "ee0ba344b2e14a28b97a442c5e0ce133": {
          "model_module": "@jupyter-widgets/controls",
          "model_name": "DescriptionStyleModel",
          "model_module_version": "1.5.0",
          "state": {
            "_model_module": "@jupyter-widgets/controls",
            "_model_module_version": "1.5.0",
            "_model_name": "DescriptionStyleModel",
            "_view_count": null,
            "_view_module": "@jupyter-widgets/base",
            "_view_module_version": "1.2.0",
            "_view_name": "StyleView",
            "description_width": ""
          }
        },
        "83a3161f2def49d2a0bfedd6b708ce75": {
          "model_module": "@jupyter-widgets/base",
          "model_name": "LayoutModel",
          "model_module_version": "1.2.0",
          "state": {
            "_model_module": "@jupyter-widgets/base",
            "_model_module_version": "1.2.0",
            "_model_name": "LayoutModel",
            "_view_count": null,
            "_view_module": "@jupyter-widgets/base",
            "_view_module_version": "1.2.0",
            "_view_name": "LayoutView",
            "align_content": null,
            "align_items": null,
            "align_self": null,
            "border": null,
            "bottom": null,
            "display": null,
            "flex": null,
            "flex_flow": null,
            "grid_area": null,
            "grid_auto_columns": null,
            "grid_auto_flow": null,
            "grid_auto_rows": null,
            "grid_column": null,
            "grid_gap": null,
            "grid_row": null,
            "grid_template_areas": null,
            "grid_template_columns": null,
            "grid_template_rows": null,
            "height": null,
            "justify_content": null,
            "justify_items": null,
            "left": null,
            "margin": null,
            "max_height": null,
            "max_width": null,
            "min_height": null,
            "min_width": null,
            "object_fit": null,
            "object_position": null,
            "order": null,
            "overflow": null,
            "overflow_x": null,
            "overflow_y": null,
            "padding": null,
            "right": null,
            "top": null,
            "visibility": null,
            "width": null
          }
        },
        "32e403390dd84bbebbdf69184ec0be9e": {
          "model_module": "@jupyter-widgets/controls",
          "model_name": "ProgressStyleModel",
          "model_module_version": "1.5.0",
          "state": {
            "_model_module": "@jupyter-widgets/controls",
            "_model_module_version": "1.5.0",
            "_model_name": "ProgressStyleModel",
            "_view_count": null,
            "_view_module": "@jupyter-widgets/base",
            "_view_module_version": "1.2.0",
            "_view_name": "StyleView",
            "bar_color": null,
            "description_width": ""
          }
        }
      }
    }
  },
  "cells": [
    {
      "cell_type": "markdown",
      "source": [
        "# Wasserstein Generative Adversarial Network"
      ],
      "metadata": {
        "id": "jJnqDELD8t1x"
      }
    },
    {
      "cell_type": "markdown",
      "source": [
        "**Main Improvements:**\n",
        "\n",
        "1. Earth Mover's Distance (Remove Sigmoid Layer from D).  \n",
        "2. Weight Clipping after every optimizer step.  "
      ],
      "metadata": {
        "id": "_xp_Q0GbaM1V"
      }
    },
    {
      "cell_type": "markdown",
      "source": [
        "## Imports"
      ],
      "metadata": {
        "id": "BKl81qZA8yvl"
      }
    },
    {
      "cell_type": "markdown",
      "source": [
        "### wandb (interactive cell)"
      ],
      "metadata": {
        "id": "HNGGKEk680T9"
      }
    },
    {
      "cell_type": "code",
      "execution_count": null,
      "metadata": {
        "colab": {
          "base_uri": "https://localhost:8080/",
          "height": 329
        },
        "id": "RL25Wf7N7U3d",
        "outputId": "9f7882f4-74eb-48dd-8ae4-1ab5e82e18dd"
      },
      "outputs": [
        {
          "output_type": "stream",
          "name": "stdout",
          "text": [
            "\u001b[2K     \u001b[90m━━━━━━━━━━━━━━━━━━━━━━━━━━━━━━━━━━━━━━━━\u001b[0m \u001b[32m2.0/2.0 MB\u001b[0m \u001b[31m54.4 MB/s\u001b[0m eta \u001b[36m0:00:00\u001b[0m\n",
            "\u001b[2K     \u001b[90m━━━━━━━━━━━━━━━━━━━━━━━━━━━━━━━━━━━━━━\u001b[0m \u001b[32m719.0/719.0 kB\u001b[0m \u001b[31m57.3 MB/s\u001b[0m eta \u001b[36m0:00:00\u001b[0m\n",
            "\u001b[2K     \u001b[90m━━━━━━━━━━━━━━━━━━━━━━━━━━━━━━━━━━━━━━\u001b[0m \u001b[32m519.2/519.2 kB\u001b[0m \u001b[31m44.2 MB/s\u001b[0m eta \u001b[36m0:00:00\u001b[0m\n",
            "\u001b[2K     \u001b[90m━━━━━━━━━━━━━━━━━━━━━━━━━━━━━━━━━━━━━━\u001b[0m \u001b[32m184.3/184.3 kB\u001b[0m \u001b[31m18.8 MB/s\u001b[0m eta \u001b[36m0:00:00\u001b[0m\n",
            "\u001b[2K     \u001b[90m━━━━━━━━━━━━━━━━━━━━━━━━━━━━━━━━━━━━━━\u001b[0m \u001b[32m201.7/201.7 kB\u001b[0m \u001b[31m21.6 MB/s\u001b[0m eta \u001b[36m0:00:00\u001b[0m\n",
            "\u001b[?25h  Preparing metadata (setup.py) ... \u001b[?25l\u001b[?25hdone\n",
            "\u001b[2K     \u001b[90m━━━━━━━━━━━━━━━━━━━━━━━━━━━━━━━━━━━━━━━━\u001b[0m \u001b[32m1.0/1.0 MB\u001b[0m \u001b[31m69.7 MB/s\u001b[0m eta \u001b[36m0:00:00\u001b[0m\n",
            "\u001b[2K     \u001b[90m━━━━━━━━━━━━━━━━━━━━━━━━━━━━━━━━━━━━━━━━\u001b[0m \u001b[32m62.7/62.7 kB\u001b[0m \u001b[31m8.9 MB/s\u001b[0m eta \u001b[36m0:00:00\u001b[0m\n",
            "\u001b[2K     \u001b[90m━━━━━━━━━━━━━━━━━━━━━━━━━━━━━━━━━━━━━━\u001b[0m \u001b[32m114.5/114.5 kB\u001b[0m \u001b[31m16.4 MB/s\u001b[0m eta \u001b[36m0:00:00\u001b[0m\n",
            "\u001b[2K     \u001b[90m━━━━━━━━━━━━━━━━━━━━━━━━━━━━━━━━━━━━━━\u001b[0m \u001b[32m149.6/149.6 kB\u001b[0m \u001b[31m20.7 MB/s\u001b[0m eta \u001b[36m0:00:00\u001b[0m\n",
            "\u001b[2K     \u001b[90m━━━━━━━━━━━━━━━━━━━━━━━━━━━━━━━━━━━━━━\u001b[0m \u001b[32m268.8/268.8 kB\u001b[0m \u001b[31m31.3 MB/s\u001b[0m eta \u001b[36m0:00:00\u001b[0m\n",
            "\u001b[?25h  Building wheel for pathtools (setup.py) ... \u001b[?25l\u001b[?25hdone\n"
          ]
        },
        {
          "output_type": "display_data",
          "data": {
            "text/plain": [
              "<IPython.core.display.Javascript object>"
            ],
            "application/javascript": [
              "\n",
              "        window._wandbApiKey = new Promise((resolve, reject) => {\n",
              "            function loadScript(url) {\n",
              "            return new Promise(function(resolve, reject) {\n",
              "                let newScript = document.createElement(\"script\");\n",
              "                newScript.onerror = reject;\n",
              "                newScript.onload = resolve;\n",
              "                document.body.appendChild(newScript);\n",
              "                newScript.src = url;\n",
              "            });\n",
              "            }\n",
              "            loadScript(\"https://cdn.jsdelivr.net/npm/postmate/build/postmate.min.js\").then(() => {\n",
              "            const iframe = document.createElement('iframe')\n",
              "            iframe.style.cssText = \"width:0;height:0;border:none\"\n",
              "            document.body.appendChild(iframe)\n",
              "            const handshake = new Postmate({\n",
              "                container: iframe,\n",
              "                url: 'https://wandb.ai/authorize'\n",
              "            });\n",
              "            const timeout = setTimeout(() => reject(\"Couldn't auto authenticate\"), 5000)\n",
              "            handshake.then(function(child) {\n",
              "                child.on('authorize', data => {\n",
              "                    clearTimeout(timeout)\n",
              "                    resolve(data)\n",
              "                });\n",
              "            });\n",
              "            })\n",
              "        });\n",
              "    "
            ]
          },
          "metadata": {}
        },
        {
          "output_type": "stream",
          "name": "stderr",
          "text": [
            "\u001b[34m\u001b[1mwandb\u001b[0m: Logging into wandb.ai. (Learn how to deploy a W&B server locally: https://wandb.me/wandb-server)\n",
            "\u001b[34m\u001b[1mwandb\u001b[0m: You can find your API key in your browser here: https://wandb.ai/authorize\n",
            "wandb: Paste an API key from your profile and hit enter, or press ctrl+c to quit:"
          ]
        },
        {
          "name": "stdout",
          "output_type": "stream",
          "text": [
            " ··········\n"
          ]
        },
        {
          "output_type": "stream",
          "name": "stderr",
          "text": [
            "\u001b[34m\u001b[1mwandb\u001b[0m: Appending key for api.wandb.ai to your netrc file: /root/.netrc\n"
          ]
        },
        {
          "output_type": "execute_result",
          "data": {
            "text/plain": [
              "True"
            ]
          },
          "metadata": {},
          "execution_count": 1
        }
      ],
      "source": [
        "!pip -qqq install wandb pytorch-lightning torchmetrics\n",
        "\n",
        "import wandb\n",
        "from pytorch_lightning.loggers import WandbLogger\n",
        "\n",
        "wandb.login()\n",
        "\n",
        "# API Key:\n",
        "# d926baa25b6a14ffa4e5c30a6f3bbffbeca8fcf1"
      ]
    },
    {
      "cell_type": "markdown",
      "source": [
        "### Lightning"
      ],
      "metadata": {
        "id": "2fYiQ8KT93mk"
      }
    },
    {
      "cell_type": "code",
      "source": [
        "try:\n",
        "  import lightning.pytorch as pl\n",
        "except:\n",
        "  print(\"[!] Couldn't find pytorch-lightning.\\nInstalling it...\\n\")\n",
        "  !pip install lightning\n",
        "  import lightning.pytorch as pl"
      ],
      "metadata": {
        "colab": {
          "base_uri": "https://localhost:8080/"
        },
        "id": "l72VnqKx946V",
        "outputId": "42361256-3212-4b3c-fe50-1a9c5b8ec519"
      },
      "execution_count": null,
      "outputs": [
        {
          "output_type": "stream",
          "name": "stdout",
          "text": [
            "[!] Couldn't find pytorch-lightning.\n",
            "Installing it...\n",
            "\n",
            "Looking in indexes: https://pypi.org/simple, https://us-python.pkg.dev/colab-wheels/public/simple/\n",
            "Collecting lightning\n",
            "  Downloading lightning-2.0.2-py3-none-any.whl (1.8 MB)\n",
            "\u001b[2K     \u001b[90m━━━━━━━━━━━━━━━━━━━━━━━━━━━━━━━━━━━━━━━━\u001b[0m \u001b[32m1.8/1.8 MB\u001b[0m \u001b[31m47.0 MB/s\u001b[0m eta \u001b[36m0:00:00\u001b[0m\n",
            "\u001b[?25hRequirement already satisfied: rich<15.0,>=12.3.0 in /usr/local/lib/python3.10/dist-packages (from lightning) (13.3.4)\n",
            "Requirement already satisfied: pydantic<4.0,>=1.7.4 in /usr/local/lib/python3.10/dist-packages (from lightning) (1.10.7)\n",
            "Collecting starlette\n",
            "  Downloading starlette-0.26.1-py3-none-any.whl (66 kB)\n",
            "\u001b[2K     \u001b[90m━━━━━━━━━━━━━━━━━━━━━━━━━━━━━━━━━━━━━━━━\u001b[0m \u001b[32m66.9/66.9 kB\u001b[0m \u001b[31m9.1 MB/s\u001b[0m eta \u001b[36m0:00:00\u001b[0m\n",
            "\u001b[?25hCollecting uvicorn<2.0\n",
            "  Downloading uvicorn-0.22.0-py3-none-any.whl (58 kB)\n",
            "\u001b[2K     \u001b[90m━━━━━━━━━━━━━━━━━━━━━━━━━━━━━━━━━━━━━━━━\u001b[0m \u001b[32m58.3/58.3 kB\u001b[0m \u001b[31m7.3 MB/s\u001b[0m eta \u001b[36m0:00:00\u001b[0m\n",
            "\u001b[?25hRequirement already satisfied: psutil<7.0 in /usr/local/lib/python3.10/dist-packages (from lightning) (5.9.5)\n",
            "Collecting dateutils<2.0\n",
            "  Downloading dateutils-0.6.12-py2.py3-none-any.whl (5.7 kB)\n",
            "Requirement already satisfied: typing-extensions<6.0,>=4.0.0 in /usr/local/lib/python3.10/dist-packages (from lightning) (4.5.0)\n",
            "Collecting starsessions<2.0,>=1.2.1\n",
            "  Downloading starsessions-1.3.0-py3-none-any.whl (10 kB)\n",
            "Requirement already satisfied: traitlets<7.0,>=5.3.0 in /usr/local/lib/python3.10/dist-packages (from lightning) (5.7.1)\n",
            "Requirement already satisfied: fsspec<2024.0,>=2022.5.0 in /usr/local/lib/python3.10/dist-packages (from lightning) (2023.4.0)\n",
            "Collecting fastapi<0.89.0,>=0.69.0\n",
            "  Downloading fastapi-0.88.0-py3-none-any.whl (55 kB)\n",
            "\u001b[2K     \u001b[90m━━━━━━━━━━━━━━━━━━━━━━━━━━━━━━━━━━━━━━━━\u001b[0m \u001b[32m55.5/55.5 kB\u001b[0m \u001b[31m8.5 MB/s\u001b[0m eta \u001b[36m0:00:00\u001b[0m\n",
            "\u001b[?25hCollecting inquirer<5.0,>=2.10.0\n",
            "  Downloading inquirer-3.1.3-py3-none-any.whl (18 kB)\n",
            "Requirement already satisfied: beautifulsoup4<6.0,>=4.8.0 in /usr/local/lib/python3.10/dist-packages (from lightning) (4.11.2)\n",
            "Requirement already satisfied: torchmetrics<2.0,>=0.7.0 in /usr/local/lib/python3.10/dist-packages (from lightning) (0.11.4)\n",
            "Requirement already satisfied: tqdm<6.0,>=4.57.0 in /usr/local/lib/python3.10/dist-packages (from lightning) (4.65.0)\n",
            "Collecting websockets<12.0\n",
            "  Downloading websockets-11.0.2-cp310-cp310-manylinux_2_5_x86_64.manylinux1_x86_64.manylinux_2_17_x86_64.manylinux2014_x86_64.whl (129 kB)\n",
            "\u001b[2K     \u001b[90m━━━━━━━━━━━━━━━━━━━━━━━━━━━━━━━━━━━━━━\u001b[0m \u001b[32m129.9/129.9 kB\u001b[0m \u001b[31m19.3 MB/s\u001b[0m eta \u001b[36m0:00:00\u001b[0m\n",
            "\u001b[?25hCollecting croniter<1.4.0,>=1.3.0\n",
            "  Downloading croniter-1.3.14-py2.py3-none-any.whl (18 kB)\n",
            "Requirement already satisfied: torch<4.0,>=1.11.0 in /usr/local/lib/python3.10/dist-packages (from lightning) (2.0.0+cu118)\n",
            "Collecting arrow<3.0,>=1.2.0\n",
            "  Downloading arrow-1.2.3-py3-none-any.whl (66 kB)\n",
            "\u001b[2K     \u001b[90m━━━━━━━━━━━━━━━━━━━━━━━━━━━━━━━━━━━━━━━━\u001b[0m \u001b[32m66.4/66.4 kB\u001b[0m \u001b[31m9.1 MB/s\u001b[0m eta \u001b[36m0:00:00\u001b[0m\n",
            "\u001b[?25hRequirement already satisfied: numpy<3.0,>=1.17.2 in /usr/local/lib/python3.10/dist-packages (from lightning) (1.22.4)\n",
            "Requirement already satisfied: pytorch-lightning in /usr/local/lib/python3.10/dist-packages (from lightning) (2.0.2)\n",
            "Requirement already satisfied: click<10.0 in /usr/local/lib/python3.10/dist-packages (from lightning) (8.1.3)\n",
            "Requirement already satisfied: PyYAML<8.0,>=5.4 in /usr/local/lib/python3.10/dist-packages (from lightning) (6.0)\n",
            "Requirement already satisfied: websocket-client<3.0 in /usr/local/lib/python3.10/dist-packages (from lightning) (1.5.1)\n",
            "Collecting lightning-cloud>=0.5.34\n",
            "  Downloading lightning_cloud-0.5.34-py3-none-any.whl (557 kB)\n",
            "\u001b[2K     \u001b[90m━━━━━━━━━━━━━━━━━━━━━━━━━━━━━━━━━━━━━━\u001b[0m \u001b[32m557.1/557.1 kB\u001b[0m \u001b[31m56.4 MB/s\u001b[0m eta \u001b[36m0:00:00\u001b[0m\n",
            "\u001b[?25hCollecting deepdiff<8.0,>=5.7.0\n",
            "  Downloading deepdiff-6.3.0-py3-none-any.whl (69 kB)\n",
            "\u001b[2K     \u001b[90m━━━━━━━━━━━━━━━━━━━━━━━━━━━━━━━━━━━━━━━━\u001b[0m \u001b[32m69.7/69.7 kB\u001b[0m \u001b[31m11.1 MB/s\u001b[0m eta \u001b[36m0:00:00\u001b[0m\n",
            "\u001b[?25hRequirement already satisfied: packaging<25.0,>=17.1 in /usr/local/lib/python3.10/dist-packages (from lightning) (23.1)\n",
            "Requirement already satisfied: lightning-utilities<2.0,>=0.7.0 in /usr/local/lib/python3.10/dist-packages (from lightning) (0.8.0)\n",
            "Requirement already satisfied: requests<4.0 in /usr/local/lib/python3.10/dist-packages (from lightning) (2.27.1)\n",
            "Requirement already satisfied: urllib3<3.0 in /usr/local/lib/python3.10/dist-packages (from lightning) (1.26.15)\n",
            "Requirement already satisfied: Jinja2<5.0 in /usr/local/lib/python3.10/dist-packages (from lightning) (3.1.2)\n",
            "Requirement already satisfied: python-dateutil>=2.7.0 in /usr/local/lib/python3.10/dist-packages (from arrow<3.0,>=1.2.0->lightning) (2.8.2)\n",
            "Requirement already satisfied: soupsieve>1.2 in /usr/local/lib/python3.10/dist-packages (from beautifulsoup4<6.0,>=4.8.0->lightning) (2.4.1)\n",
            "Requirement already satisfied: pytz in /usr/local/lib/python3.10/dist-packages (from dateutils<2.0->lightning) (2022.7.1)\n",
            "Collecting ordered-set<4.2.0,>=4.0.2\n",
            "  Downloading ordered_set-4.1.0-py3-none-any.whl (7.6 kB)\n",
            "Collecting starlette\n",
            "  Downloading starlette-0.22.0-py3-none-any.whl (64 kB)\n",
            "\u001b[2K     \u001b[90m━━━━━━━━━━━━━━━━━━━━━━━━━━━━━━━━━━━━━━━━\u001b[0m \u001b[32m64.3/64.3 kB\u001b[0m \u001b[31m9.8 MB/s\u001b[0m eta \u001b[36m0:00:00\u001b[0m\n",
            "\u001b[?25hRequirement already satisfied: anyio<5,>=3.4.0 in /usr/local/lib/python3.10/dist-packages (from starlette->lightning) (3.6.2)\n",
            "Requirement already satisfied: aiohttp!=4.0.0a0,!=4.0.0a1 in /usr/local/lib/python3.10/dist-packages (from fsspec<2024.0,>=2022.5.0->lightning) (3.8.4)\n",
            "Collecting blessed>=1.19.0\n",
            "  Downloading blessed-1.20.0-py2.py3-none-any.whl (58 kB)\n",
            "\u001b[2K     \u001b[90m━━━━━━━━━━━━━━━━━━━━━━━━━━━━━━━━━━━━━━━━\u001b[0m \u001b[32m58.4/58.4 kB\u001b[0m \u001b[31m9.1 MB/s\u001b[0m eta \u001b[36m0:00:00\u001b[0m\n",
            "\u001b[?25hCollecting python-editor>=1.0.4\n",
            "  Downloading python_editor-1.0.4-py3-none-any.whl (4.9 kB)\n",
            "Collecting readchar>=3.0.6\n",
            "  Downloading readchar-4.0.5-py3-none-any.whl (8.5 kB)\n",
            "Requirement already satisfied: MarkupSafe>=2.0 in /usr/local/lib/python3.10/dist-packages (from Jinja2<5.0->lightning) (2.1.2)\n",
            "Requirement already satisfied: six in /usr/local/lib/python3.10/dist-packages (from lightning-cloud>=0.5.34->lightning) (1.16.0)\n",
            "Collecting pyjwt\n",
            "  Downloading PyJWT-2.6.0-py3-none-any.whl (20 kB)\n",
            "Collecting python-multipart\n",
            "  Downloading python_multipart-0.0.6-py3-none-any.whl (45 kB)\n",
            "\u001b[2K     \u001b[90m━━━━━━━━━━━━━━━━━━━━━━━━━━━━━━━━━━━━━━━━\u001b[0m \u001b[32m45.7/45.7 kB\u001b[0m \u001b[31m6.9 MB/s\u001b[0m eta \u001b[36m0:00:00\u001b[0m\n",
            "\u001b[?25hRequirement already satisfied: certifi>=2017.4.17 in /usr/local/lib/python3.10/dist-packages (from requests<4.0->lightning) (2022.12.7)\n",
            "Requirement already satisfied: charset-normalizer~=2.0.0 in /usr/local/lib/python3.10/dist-packages (from requests<4.0->lightning) (2.0.12)\n",
            "Requirement already satisfied: idna<4,>=2.5 in /usr/local/lib/python3.10/dist-packages (from requests<4.0->lightning) (3.4)\n",
            "Requirement already satisfied: pygments<3.0.0,>=2.13.0 in /usr/local/lib/python3.10/dist-packages (from rich<15.0,>=12.3.0->lightning) (2.14.0)\n",
            "Requirement already satisfied: markdown-it-py<3.0.0,>=2.2.0 in /usr/local/lib/python3.10/dist-packages (from rich<15.0,>=12.3.0->lightning) (2.2.0)\n",
            "Requirement already satisfied: itsdangerous<3.0.0,>=2.0.1 in /usr/local/lib/python3.10/dist-packages (from starsessions<2.0,>=1.2.1->lightning) (2.1.2)\n",
            "Requirement already satisfied: networkx in /usr/local/lib/python3.10/dist-packages (from torch<4.0,>=1.11.0->lightning) (3.1)\n",
            "Requirement already satisfied: triton==2.0.0 in /usr/local/lib/python3.10/dist-packages (from torch<4.0,>=1.11.0->lightning) (2.0.0)\n",
            "Requirement already satisfied: filelock in /usr/local/lib/python3.10/dist-packages (from torch<4.0,>=1.11.0->lightning) (3.12.0)\n",
            "Requirement already satisfied: sympy in /usr/local/lib/python3.10/dist-packages (from torch<4.0,>=1.11.0->lightning) (1.11.1)\n",
            "Requirement already satisfied: cmake in /usr/local/lib/python3.10/dist-packages (from triton==2.0.0->torch<4.0,>=1.11.0->lightning) (3.25.2)\n",
            "Requirement already satisfied: lit in /usr/local/lib/python3.10/dist-packages (from triton==2.0.0->torch<4.0,>=1.11.0->lightning) (16.0.2)\n",
            "Collecting h11>=0.8\n",
            "  Downloading h11-0.14.0-py3-none-any.whl (58 kB)\n",
            "\u001b[2K     \u001b[90m━━━━━━━━━━━━━━━━━━━━━━━━━━━━━━━━━━━━━━━━\u001b[0m \u001b[32m58.3/58.3 kB\u001b[0m \u001b[31m8.7 MB/s\u001b[0m eta \u001b[36m0:00:00\u001b[0m\n",
            "\u001b[?25hRequirement already satisfied: attrs>=17.3.0 in /usr/local/lib/python3.10/dist-packages (from aiohttp!=4.0.0a0,!=4.0.0a1->fsspec<2024.0,>=2022.5.0->lightning) (23.1.0)\n",
            "Requirement already satisfied: frozenlist>=1.1.1 in /usr/local/lib/python3.10/dist-packages (from aiohttp!=4.0.0a0,!=4.0.0a1->fsspec<2024.0,>=2022.5.0->lightning) (1.3.3)\n",
            "Requirement already satisfied: yarl<2.0,>=1.0 in /usr/local/lib/python3.10/dist-packages (from aiohttp!=4.0.0a0,!=4.0.0a1->fsspec<2024.0,>=2022.5.0->lightning) (1.9.2)\n",
            "Requirement already satisfied: multidict<7.0,>=4.5 in /usr/local/lib/python3.10/dist-packages (from aiohttp!=4.0.0a0,!=4.0.0a1->fsspec<2024.0,>=2022.5.0->lightning) (6.0.4)\n",
            "Requirement already satisfied: aiosignal>=1.1.2 in /usr/local/lib/python3.10/dist-packages (from aiohttp!=4.0.0a0,!=4.0.0a1->fsspec<2024.0,>=2022.5.0->lightning) (1.3.1)\n",
            "Requirement already satisfied: async-timeout<5.0,>=4.0.0a3 in /usr/local/lib/python3.10/dist-packages (from aiohttp!=4.0.0a0,!=4.0.0a1->fsspec<2024.0,>=2022.5.0->lightning) (4.0.2)\n",
            "Requirement already satisfied: sniffio>=1.1 in /usr/local/lib/python3.10/dist-packages (from anyio<5,>=3.4.0->starlette->lightning) (1.3.0)\n",
            "Requirement already satisfied: wcwidth>=0.1.4 in /usr/local/lib/python3.10/dist-packages (from blessed>=1.19.0->inquirer<5.0,>=2.10.0->lightning) (0.2.6)\n",
            "Requirement already satisfied: mdurl~=0.1 in /usr/local/lib/python3.10/dist-packages (from markdown-it-py<3.0.0,>=2.2.0->rich<15.0,>=12.3.0->lightning) (0.1.2)\n",
            "Requirement already satisfied: setuptools>=41.0 in /usr/local/lib/python3.10/dist-packages (from readchar>=3.0.6->inquirer<5.0,>=2.10.0->lightning) (67.7.2)\n",
            "Requirement already satisfied: mpmath>=0.19 in /usr/local/lib/python3.10/dist-packages (from sympy->torch<4.0,>=1.11.0->lightning) (1.3.0)\n",
            "Installing collected packages: python-editor, websockets, readchar, python-multipart, pyjwt, ordered-set, h11, blessed, uvicorn, starlette, inquirer, deepdiff, dateutils, croniter, arrow, starsessions, fastapi, lightning-cloud, lightning\n",
            "Successfully installed arrow-1.2.3 blessed-1.20.0 croniter-1.3.14 dateutils-0.6.12 deepdiff-6.3.0 fastapi-0.88.0 h11-0.14.0 inquirer-3.1.3 lightning-2.0.2 lightning-cloud-0.5.34 ordered-set-4.1.0 pyjwt-2.6.0 python-editor-1.0.4 python-multipart-0.0.6 readchar-4.0.5 starlette-0.22.0 starsessions-1.3.0 uvicorn-0.22.0 websockets-11.0.2\n"
          ]
        }
      ]
    },
    {
      "cell_type": "code",
      "source": [
        "from lightning.pytorch.utilities.model_summary import ModelSummary"
      ],
      "metadata": {
        "id": "2f6GKjlv97Hk"
      },
      "execution_count": null,
      "outputs": []
    },
    {
      "cell_type": "code",
      "source": [
        "from pytorch_lightning import seed_everything"
      ],
      "metadata": {
        "id": "aW1Wbm2298Km"
      },
      "execution_count": null,
      "outputs": []
    },
    {
      "cell_type": "markdown",
      "source": [
        "### standard imports"
      ],
      "metadata": {
        "id": "t1EQePfV83O2"
      }
    },
    {
      "cell_type": "code",
      "source": [
        "import os\n",
        "import shutil\n",
        "import pathlib\n",
        "\n",
        "from PIL import Image\n",
        "import numpy as np\n",
        "import cv2 as cv\n",
        "import random\n",
        "import matplotlib.pyplot as plt\n",
        "from tqdm.auto import tqdm\n",
        "\n",
        "import torch\n",
        "import torch.nn as nn\n",
        "import torch.nn.functional as F\n",
        "from torch import optim\n",
        "\n",
        "from torch.utils.data import DataLoader, random_split\n",
        "from torch.utils.data import Dataset\n",
        "\n",
        "import torchvision\n",
        "from torchvision import datasets"
      ],
      "metadata": {
        "id": "6AevVvdl85Um"
      },
      "execution_count": null,
      "outputs": []
    },
    {
      "cell_type": "code",
      "source": [
        "import torchvision.transforms as T\n",
        "from torchvision.transforms import Compose, ToTensor, Resize\n",
        "from torchvision.utils import make_grid"
      ],
      "metadata": {
        "id": "Dzq3qiLS9-u8"
      },
      "execution_count": null,
      "outputs": []
    },
    {
      "cell_type": "markdown",
      "source": [
        "### Albumentations"
      ],
      "metadata": {
        "id": "Y7NgVvbE-AHU"
      }
    },
    {
      "cell_type": "code",
      "source": [
        "try:\n",
        "  import albumentations as A\n",
        "  from albumentations.pytorch import ToTensorV2\n",
        "except:\n",
        "  print(\"[!] Couldn't find albumentations... installing it.\")\n",
        "  !pip install -U albumentations\n",
        "  import albumentations as A\n",
        "  from albumentations.pytorch import ToTensorV2"
      ],
      "metadata": {
        "id": "NOCIrRda-BYM"
      },
      "execution_count": null,
      "outputs": []
    },
    {
      "cell_type": "markdown",
      "source": [
        "### Torchmetrics"
      ],
      "metadata": {
        "id": "FuT0EsLu-CxA"
      }
    },
    {
      "cell_type": "code",
      "source": [
        "try:\n",
        "  import torchmetrics\n",
        "except:\n",
        "  print(f\"[!] Torchmetrics couldn't be imported.\\nInstalling...\")\n",
        "  !pip install torchmetrics"
      ],
      "metadata": {
        "id": "cwd6G-Tk-D2l"
      },
      "execution_count": null,
      "outputs": []
    },
    {
      "cell_type": "markdown",
      "source": [
        "### Custom Definitions"
      ],
      "metadata": {
        "id": "k7-nIydz-Fp8"
      }
    },
    {
      "cell_type": "code",
      "source": [
        "# Folder Utilities ----------------------------\n",
        "\n",
        "## Create dir if it doesn't exist\n",
        "def create_dir(dir_name):\n",
        "  if not os.path.exists(f'/content/{dir_name}'):\n",
        "    os.mkdir(f'/content/{dir_name}')\n",
        "\n",
        "## Delete dir: checkpoints\n",
        "def delete_dir(dir_name):\n",
        "  if os.path.isdir(f'/content/{dir_name}'):\n",
        "    shutil.rmtree(f'/content/{dir_name}')\n",
        "\n",
        "# ---------------------------------------------"
      ],
      "metadata": {
        "id": "B7a_Sbx5-Gyu"
      },
      "execution_count": null,
      "outputs": []
    },
    {
      "cell_type": "markdown",
      "source": [
        "## Config File, Seeds & Devices"
      ],
      "metadata": {
        "id": "qigozplb-TDs"
      }
    },
    {
      "cell_type": "code",
      "source": [
        "# Log this config file to wandb\n",
        "CONFIG = dict(\n",
        "    seed=42,\n",
        "    DATA_ROOT = '/content/',\n",
        "    BATCH_SIZE = 64,\n",
        "    WORKERS = 2,\n",
        "    IMG_SIZE = (28,28),\n",
        "    NUM_EPOCHS = 20,\n",
        "    nz=100,\n",
        "    lr = 0.00005,\n",
        "    nc = 1,  \n",
        "    disc_steps=5,\n",
        "    checkpoint_path='/content/checkpoints/',\n",
        "    clipping_c=0.01\n",
        "    )"
      ],
      "metadata": {
        "id": "uWjUuUh8-PQF"
      },
      "execution_count": null,
      "outputs": []
    },
    {
      "cell_type": "code",
      "source": [
        "seed_everything(CONFIG['seed'])"
      ],
      "metadata": {
        "colab": {
          "base_uri": "https://localhost:8080/"
        },
        "id": "J2PolDP7SqEU",
        "outputId": "eadc4732-737f-4369-b232-6b80c00b24ef"
      },
      "execution_count": null,
      "outputs": [
        {
          "output_type": "stream",
          "name": "stderr",
          "text": [
            "INFO:lightning_fabric.utilities.seed:Global seed set to 42\n"
          ]
        },
        {
          "output_type": "execute_result",
          "data": {
            "text/plain": [
              "42"
            ]
          },
          "metadata": {},
          "execution_count": 49
        }
      ]
    },
    {
      "cell_type": "code",
      "source": [
        "# device = torch.device('cpu')\n",
        "if torch.cuda.is_available():\n",
        "  device = torch.device('cuda')\n",
        "else:\n",
        "  device = torch.device('cpu')\n",
        "\n",
        "device"
      ],
      "metadata": {
        "colab": {
          "base_uri": "https://localhost:8080/"
        },
        "id": "sfi7e5KrSrsk",
        "outputId": "4fffb542-588e-4cfd-bab3-1d92c84d913d"
      },
      "execution_count": null,
      "outputs": [
        {
          "output_type": "execute_result",
          "data": {
            "text/plain": [
              "device(type='cuda')"
            ]
          },
          "metadata": {},
          "execution_count": 50
        }
      ]
    },
    {
      "cell_type": "markdown",
      "source": [
        "## Transforms"
      ],
      "metadata": {
        "id": "Z0bspYGB851c"
      }
    },
    {
      "cell_type": "code",
      "source": [
        "# train_transform = A.Compose(\n",
        "#     [\n",
        "#         A.SmallestMaxSize(max_size=160),\n",
        "#         A.ShiftScaleRotate(shift_limit=0.05, scale_limit=0.05, rotate_limit=15, p=0.5),\n",
        "#         A.RandomCrop(height=128, width=128),\n",
        "#         A.RGBShift(r_shift_limit=15, g_shift_limit=15, b_shift_limit=15, p=0.5),\n",
        "#         A.RandomBrightnessContrast(p=0.5),\n",
        "#         A.Normalize(mean=(0.485, 0.456, 0.406), std=(0.229, 0.224, 0.225)),\n",
        "#         ToTensorV2(),\n",
        "#     ]\n",
        "# )"
      ],
      "metadata": {
        "id": "zvbPlyvZ89rF"
      },
      "execution_count": null,
      "outputs": []
    },
    {
      "cell_type": "markdown",
      "source": [
        "## Dataset & DataLoaders (use lightning's Data Module class this time)"
      ],
      "metadata": {
        "id": "QXCjhCis8-Ft"
      }
    },
    {
      "cell_type": "code",
      "source": [
        "train_data = torchvision.datasets.FashionMNIST(root=\"train_data\", \n",
        "                                               train = True, \n",
        "                                               transform = ToTensor(), \n",
        "                                               target_transform = None, \n",
        "                                               download = True)\n",
        "\n",
        "test_data = torchvision.datasets.FashionMNIST(root=\"test_data\",\n",
        "                                              train=False, \n",
        "                                              transform=ToTensor(), \n",
        "                                              target_transform=False, \n",
        "                                              download=True)"
      ],
      "metadata": {
        "id": "fyutMQiH-U8U"
      },
      "execution_count": null,
      "outputs": []
    },
    {
      "cell_type": "code",
      "source": [
        "print(len(test_data), len(train_data))"
      ],
      "metadata": {
        "colab": {
          "base_uri": "https://localhost:8080/"
        },
        "id": "A-rOZjAmEZJf",
        "outputId": "50a08da0-f5d5-4edc-cda4-38f7043d4147"
      },
      "execution_count": null,
      "outputs": [
        {
          "output_type": "stream",
          "name": "stdout",
          "text": [
            "10000 60000\n"
          ]
        }
      ]
    },
    {
      "cell_type": "code",
      "source": [
        "train_dataloader = DataLoader(train_data, batch_size=CONFIG['BATCH_SIZE'], shuffle=True)\n",
        "test_dataloader = DataLoader(test_data, batch_size=CONFIG['BATCH_SIZE'], shuffle=True)"
      ],
      "metadata": {
        "id": "w4taEkO_EoEg"
      },
      "execution_count": null,
      "outputs": []
    },
    {
      "cell_type": "markdown",
      "source": [
        "## Sanity Visualizations"
      ],
      "metadata": {
        "id": "8IdfCGJn9EYU"
      }
    },
    {
      "cell_type": "code",
      "source": [
        "labels_map = {\n",
        "    0: \"T-Shirt\",\n",
        "    1: \"Trouser\",\n",
        "    2: \"Pullover\",\n",
        "    3: \"Dress\",\n",
        "    4: \"Coat\",\n",
        "    5: \"Sandal\",\n",
        "    6: \"Shirt\",\n",
        "    7: \"Sneaker\",\n",
        "    8: \"Bag\",\n",
        "    9: \"Ankle Boot\",\n",
        "}\n",
        "figure = plt.figure(figsize=(8, 8))\n",
        "cols, rows = 3, 3\n",
        "for i in range(1, cols * rows + 1):\n",
        "    sample_idx = torch.randint(len(train_data), size=(1,)).item()\n",
        "    img, label = train_data[sample_idx]\n",
        "    # print(img.shape)\n",
        "    figure.add_subplot(rows, cols, i)\n",
        "    plt.title(labels_map[label])\n",
        "    plt.axis(\"off\")\n",
        "    plt.imshow(img.squeeze(), cmap=\"gray\")\n",
        "plt.show()"
      ],
      "metadata": {
        "colab": {
          "base_uri": "https://localhost:8080/",
          "height": 675
        },
        "id": "qP4uDops9Grt",
        "outputId": "828d68ac-6fb7-4dc1-c717-22bbcd96fc64"
      },
      "execution_count": null,
      "outputs": [
        {
          "output_type": "display_data",
          "data": {
            "text/plain": [
              "<Figure size 800x800 with 9 Axes>"
            ],
            "image/png": "[encoded data removed]"
          },
          "metadata": {}
        }
      ]
    },
    {
      "cell_type": "markdown",
      "source": [
        "## Model Arch"
      ],
      "metadata": {
        "id": "8xEbBzpU9Hil"
      }
    },
    {
      "cell_type": "code",
      "source": [
        "from torchvision import models\n",
        "from torchsummary import summary"
      ],
      "metadata": {
        "id": "eagh9GG-SbwA"
      },
      "execution_count": null,
      "outputs": []
    },
    {
      "cell_type": "markdown",
      "source": [
        "### Discriminator\n",
        "\n",
        "> No Sigmoid at the end!   \n",
        "> Values can range from -∞ to ∞"
      ],
      "metadata": {
        "id": "H7c8Yqcc9MYN"
      }
    },
    {
      "cell_type": "code",
      "source": [
        "class Discriminator(nn.Module):\n",
        "  def __init__(self, img_shape):\n",
        "    super().__init__()\n",
        "\n",
        "    self.img_shape = img_shape\n",
        "    self.model = nn.Sequential(\n",
        "        nn.Linear(int(np.prod(self.img_shape)), 512),\n",
        "        nn.ReLU(inplace=True),\n",
        "        nn.Linear(512, 256),\n",
        "        nn.ReLU(inplace=True),\n",
        "        nn.Linear(256, 128),\n",
        "        nn.ReLU(inplace=True),   \n",
        "        nn.Linear(128,1)\n",
        "    )\n",
        "  \n",
        "  def forward(self, x):\n",
        "    x = x.view(x.size(0), -1)\n",
        "    real_or_fake = self.model(x)\n",
        "    return real_or_fake"
      ],
      "metadata": {
        "id": "IrSce6u_9LNM"
      },
      "execution_count": null,
      "outputs": []
    },
    {
      "cell_type": "code",
      "source": [
        "d = Discriminator(img_shape=CONFIG['IMG_SIZE']).to(device)\n",
        "summary(d, (1,28,28))"
      ],
      "metadata": {
        "colab": {
          "base_uri": "https://localhost:8080/"
        },
        "id": "OtkrA-fbSgLM",
        "outputId": "8581de54-8f29-4859-d146-8ec8bf21fdd9"
      },
      "execution_count": null,
      "outputs": [
        {
          "output_type": "stream",
          "name": "stdout",
          "text": [
            "----------------------------------------------------------------\n",
            "        Layer (type)               Output Shape         Param #\n",
            "================================================================\n",
            "            Linear-1                  [-1, 512]         401,920\n",
            "              ReLU-2                  [-1, 512]               0\n",
            "            Linear-3                  [-1, 256]         131,328\n",
            "              ReLU-4                  [-1, 256]               0\n",
            "            Linear-5                  [-1, 128]          32,896\n",
            "              ReLU-6                  [-1, 128]               0\n",
            "            Linear-7                    [-1, 1]             129\n",
            "================================================================\n",
            "Total params: 566,273\n",
            "Trainable params: 566,273\n",
            "Non-trainable params: 0\n",
            "----------------------------------------------------------------\n",
            "Input size (MB): 0.00\n",
            "Forward/backward pass size (MB): 0.01\n",
            "Params size (MB): 2.16\n",
            "Estimated Total Size (MB): 2.18\n",
            "----------------------------------------------------------------\n"
          ]
        }
      ]
    },
    {
      "cell_type": "markdown",
      "source": [
        "### Generator"
      ],
      "metadata": {
        "id": "a7Gx1Evy9OJH"
      }
    },
    {
      "cell_type": "code",
      "source": [
        "class Generator(nn.Module):\n",
        "  def __init__(self, img_shape, latent_dim: int = 100):\n",
        "    super().__init__()\n",
        "\n",
        "    self.img_shape = img_shape\n",
        "\n",
        "    self.model = nn.Sequential(\n",
        "        nn.Flatten(),\n",
        "        nn.Linear(latent_dim, 128),\n",
        "        nn.ReLU(inplace=True),\n",
        "        nn.Linear(128, 256),\n",
        "        nn.ReLU(inplace=True),\n",
        "        nn.Linear(256, 512),\n",
        "        nn.ReLU(inplace=True),\n",
        "        nn.Linear(512, 784),\n",
        "        nn.Sigmoid()          \n",
        "    )\n",
        "  \n",
        "  def forward(self, z):\n",
        "    img = self.model(z)\n",
        "    img = img.view(img.size(0), *self.img_shape)\n",
        "    return img"
      ],
      "metadata": {
        "id": "qpX_I4qB9PJt"
      },
      "execution_count": null,
      "outputs": []
    },
    {
      "cell_type": "code",
      "source": [
        "g = Generator(CONFIG['IMG_SIZE']).to(device)\n",
        "summary(g, (100, 1, 1))"
      ],
      "metadata": {
        "colab": {
          "base_uri": "https://localhost:8080/"
        },
        "id": "zsoJaO9zSeAz",
        "outputId": "5cc588c8-b0aa-4e48-d467-d6e1a17c7536"
      },
      "execution_count": null,
      "outputs": [
        {
          "output_type": "stream",
          "name": "stdout",
          "text": [
            "----------------------------------------------------------------\n",
            "        Layer (type)               Output Shape         Param #\n",
            "================================================================\n",
            "           Flatten-1                  [-1, 100]               0\n",
            "            Linear-2                  [-1, 128]          12,928\n",
            "              ReLU-3                  [-1, 128]               0\n",
            "            Linear-4                  [-1, 256]          33,024\n",
            "              ReLU-5                  [-1, 256]               0\n",
            "            Linear-6                  [-1, 512]         131,584\n",
            "              ReLU-7                  [-1, 512]               0\n",
            "            Linear-8                  [-1, 784]         402,192\n",
            "           Sigmoid-9                  [-1, 784]               0\n",
            "================================================================\n",
            "Total params: 579,728\n",
            "Trainable params: 579,728\n",
            "Non-trainable params: 0\n",
            "----------------------------------------------------------------\n",
            "Input size (MB): 0.00\n",
            "Forward/backward pass size (MB): 0.03\n",
            "Params size (MB): 2.21\n",
            "Estimated Total Size (MB): 2.24\n",
            "----------------------------------------------------------------\n"
          ]
        }
      ]
    },
    {
      "cell_type": "markdown",
      "source": [
        "## Lightning Recipe"
      ],
      "metadata": {
        "id": "2JiMBjrMJaFM"
      }
    },
    {
      "cell_type": "code",
      "source": [
        "class LIT_WGAN(pl.LightningModule):\n",
        "  \n",
        "  def __init__(self, \n",
        "               discriminator_model, \n",
        "               generator_model, \n",
        "               latent_dim: int = 100, \n",
        "               lr: float = 0.003, \n",
        "               clipping_c: float = 0.01,\n",
        "               disc_steps: int = 5):\n",
        "    \n",
        "    super().__init__()\n",
        "    self.save_hyperparameters(ignore=[discriminator_model, generator_model])\n",
        "    self.automatic_optimization = False\n",
        "\n",
        "    self.discriminator = discriminator_model\n",
        "    self.generator = generator_model\n",
        "    self.weight_cliping_limit = clipping_c\n",
        "  \n",
        "  def configure_optimizers(self):\n",
        "    lr = self.hparams.lr\n",
        "\n",
        "    optim_g = torch.optim.RMSprop(self.generator.parameters(), lr=lr)\n",
        "    optim_d = torch.optim.RMSprop(self.discriminator.parameters(), lr=lr)\n",
        "\n",
        "    return [optim_g, optim_d], []\n",
        "\n",
        "\n",
        "  def forward(self, z):\n",
        "    return self.generator(z)\n",
        " \n",
        "\n",
        "  def test_step(self, batch, batch_idx): # Use for Exploring the latent space \n",
        "    imgs, _ = batch\n",
        "    pass\n",
        "\n",
        "\n",
        "  def training_step(self, batch, batch_idx):\n",
        "    imgs, _ = batch\n",
        "    # print(f\"{batch_idx}:: imgs.shape =\",imgs.shape)\n",
        "    opt_g, opt_d = self.optimizers()\n",
        "\n",
        "    z = torch.randn(imgs.shape[0], self.hparams.latent_dim, 1, 1) # N x Z_d x 1 x 1\n",
        "    z = z.type_as(imgs)\n",
        "\n",
        "    # print(f\"Disc out shape:\", self.discriminator(self(z)).shape)\n",
        "\n",
        "    # Train G:\n",
        "    self.toggle_optimizer(opt_g)\n",
        "    \n",
        "    # Generator loss:\n",
        "    fake_imgs = self.generator(z)\n",
        "    # print(f\"Gen out: {fake_imgs.shape}\")\n",
        "    # print(f\"Disc out: {self.discriminator(fake_imgs).mean(0).shape}\")\n",
        "    g_loss = -1.0 * self.discriminator(fake_imgs).mean(0) # minus to minimize g_loss:: ideal out per example: -inf\n",
        "\n",
        "    # Grad step:\n",
        "    self.manual_backward(g_loss)\n",
        "    opt_g.step()\n",
        "    opt_g.zero_grad()\n",
        "\n",
        "        \n",
        "    self.untoggle_optimizer(opt_g)\n",
        "\n",
        "    # Train Discriminator\n",
        "    self.toggle_optimizer(opt_d)\n",
        "\n",
        "    for i in range(self.hparams.disc_steps): # 5 (from WGAN paper)\n",
        "      # Discriminator loss:\n",
        "      d_loss_real = -1.0 * self.discriminator(imgs).mean(0) # move towards -inf\n",
        "      d_loss_fake = self.discriminator(self.generator(z)).mean(0) # move towards -inf\n",
        "\n",
        "      d_loss = (d_loss_fake + d_loss_real) / 2.\n",
        "\n",
        "      # self.log(\"d_loss\", d_loss, prog_bar=True)\n",
        "      self.manual_backward(d_loss)\n",
        "      opt_d.step()\n",
        "\n",
        "      for weight in self.discriminator.parameters():\n",
        "        weight.data.clamp_(-self.weight_cliping_limit, self.weight_cliping_limit)\n",
        "\n",
        "      opt_d.zero_grad()\n",
        "    \n",
        "\n",
        "    self.untoggle_optimizer(opt_d)\n",
        "    # print(fake_imgs[0].shape)\n",
        "    \n",
        "    self.logger.experiment.log({\"Gen_Image_1 (during training)\":[wandb.Image(fake_imgs[0].cpu(), caption=\"Gen Out\")]})\n",
        "\n",
        "    self.log_dict({\"g_loss\": g_loss, \"d_loss\": d_loss}, \n",
        "                  on_step=True, \n",
        "                  on_epoch=True, \n",
        "                  prog_bar=True, \n",
        "                  logger=True)\n"
      ],
      "metadata": {
        "id": "qoZf73jnJb02"
      },
      "execution_count": null,
      "outputs": []
    },
    {
      "cell_type": "code",
      "source": [
        "wgan = LIT_WGAN(\n",
        "      discriminator_model = Discriminator(CONFIG['IMG_SIZE']), \n",
        "      generator_model = Generator(CONFIG['IMG_SIZE']), \n",
        "      latent_dim = CONFIG['nz'],\n",
        "      lr=CONFIG['lr'],\n",
        "      clipping_c = CONFIG['clipping_c'],\n",
        "      disc_steps=CONFIG['disc_steps']\n",
        "    )\n",
        "\n",
        "summary = ModelSummary(wgan, max_depth=-1)\n",
        "print(summary)"
      ],
      "metadata": {
        "colab": {
          "base_uri": "https://localhost:8080/"
        },
        "id": "x4MdtV6pS5Q7",
        "outputId": "be353c8d-a518-4758-df0e-57f7cf54490f"
      },
      "execution_count": null,
      "outputs": [
        {
          "output_type": "stream",
          "name": "stdout",
          "text": [
            "   | Name                  | Type          | Params\n",
            "---------------------------------------------------------\n",
            "0  | discriminator         | Discriminator | 566 K \n",
            "1  | discriminator.model   | Sequential    | 566 K \n",
            "2  | discriminator.model.0 | Linear        | 401 K \n",
            "3  | discriminator.model.1 | ReLU          | 0     \n",
            "4  | discriminator.model.2 | Linear        | 131 K \n",
            "5  | discriminator.model.3 | ReLU          | 0     \n",
            "6  | discriminator.model.4 | Linear        | 32.9 K\n",
            "7  | discriminator.model.5 | ReLU          | 0     \n",
            "8  | discriminator.model.6 | Linear        | 129   \n",
            "9  | generator             | Generator     | 579 K \n",
            "10 | generator.model       | Sequential    | 579 K \n",
            "11 | generator.model.0     | Flatten       | 0     \n",
            "12 | generator.model.1     | Linear        | 12.9 K\n",
            "13 | generator.model.2     | ReLU          | 0     \n",
            "14 | generator.model.3     | Linear        | 33.0 K\n",
            "15 | generator.model.4     | ReLU          | 0     \n",
            "16 | generator.model.5     | Linear        | 131 K \n",
            "17 | generator.model.6     | ReLU          | 0     \n",
            "18 | generator.model.7     | Linear        | 402 K \n",
            "19 | generator.model.8     | Sigmoid       | 0     \n",
            "---------------------------------------------------------\n",
            "1.1 M     Trainable params\n",
            "0         Non-trainable params\n",
            "1.1 M     Total params\n",
            "4.584     Total estimated model params size (MB)\n"
          ]
        },
        {
          "output_type": "stream",
          "name": "stderr",
          "text": [
            "/usr/local/lib/python3.10/dist-packages/lightning/pytorch/utilities/parsing.py:197: UserWarning: Attribute 'discriminator_model' is an instance of `nn.Module` and is already saved during checkpointing. It is recommended to ignore them using `self.save_hyperparameters(ignore=['discriminator_model'])`.\n",
            "  rank_zero_warn(\n",
            "/usr/local/lib/python3.10/dist-packages/lightning/pytorch/utilities/parsing.py:197: UserWarning: Attribute 'generator_model' is an instance of `nn.Module` and is already saved during checkpointing. It is recommended to ignore them using `self.save_hyperparameters(ignore=['generator_model'])`.\n",
            "  rank_zero_warn(\n"
          ]
        }
      ]
    },
    {
      "cell_type": "markdown",
      "source": [
        "## Logger: Proj, Run ... Names"
      ],
      "metadata": {
        "id": "UBs1k1UcTEHR"
      }
    },
    {
      "cell_type": "code",
      "source": [
        "wandb_logger = WandbLogger(project='M2-WGAN', \n",
        "                           name='exp-1_sanity',\n",
        "                           config=CONFIG,\n",
        "                           job_type='train',\n",
        "                           log_model=\"all\")"
      ],
      "metadata": {
        "colab": {
          "base_uri": "https://localhost:8080/",
          "height": 104
        },
        "id": "kcyCL6snTG7T",
        "outputId": "21e51a61-4791-459a-9e8a-fb6b3efd5ef1"
      },
      "execution_count": null,
      "outputs": [
        {
          "output_type": "display_data",
          "data": {
            "text/plain": [
              "<IPython.core.display.HTML object>"
            ],
            "text/html": [
              "Tracking run with wandb version 0.15.1"
            ]
          },
          "metadata": {}
        },
        {
          "output_type": "display_data",
          "data": {
            "text/plain": [
              "<IPython.core.display.HTML object>"
            ],
            "text/html": [
              "Run data is saved locally in <code>./wandb/run-20230504_020533-wq2wyt2r</code>"
            ]
          },
          "metadata": {}
        },
        {
          "output_type": "display_data",
          "data": {
            "text/plain": [
              "<IPython.core.display.HTML object>"
            ],
            "text/html": [
              "Syncing run <strong><a href='https://wandb.ai/aryangarg019/M2-WGAN/runs/wq2wyt2r' target=\"_blank\">exp-1_sanity</a></strong> to <a href='https://wandb.ai/aryangarg019/M2-WGAN' target=\"_blank\">Weights & Biases</a> (<a href='https://wandb.me/run' target=\"_blank\">docs</a>)<br/>"
            ]
          },
          "metadata": {}
        },
        {
          "output_type": "display_data",
          "data": {
            "text/plain": [
              "<IPython.core.display.HTML object>"
            ],
            "text/html": [
              " View project at <a href='https://wandb.ai/aryangarg019/M2-WGAN' target=\"_blank\">https://wandb.ai/aryangarg019/M2-WGAN</a>"
            ]
          },
          "metadata": {}
        },
        {
          "output_type": "display_data",
          "data": {
            "text/plain": [
              "<IPython.core.display.HTML object>"
            ],
            "text/html": [
              " View run at <a href='https://wandb.ai/aryangarg019/M2-WGAN/runs/wq2wyt2r' target=\"_blank\">https://wandb.ai/aryangarg019/M2-WGAN/runs/wq2wyt2r</a>"
            ]
          },
          "metadata": {}
        }
      ]
    },
    {
      "cell_type": "markdown",
      "source": [
        "## Trainer Callbacks"
      ],
      "metadata": {
        "id": "mt04CG7LTA7K"
      }
    },
    {
      "cell_type": "code",
      "source": [
        "from pytorch_lightning import Callback\n",
        "from lightning.pytorch.callbacks import DeviceStatsMonitor, TQDMProgressBar, ModelCheckpoint, EarlyStopping, LearningRateMonitor\n",
        "\n",
        "# Checkpoint\n",
        "checkpoint_callback = ModelCheckpoint(dirpath=CONFIG['checkpoint_path'],\n",
        "                                      filename='{epoch}-{g_loss:.3f}',\n",
        "                                      monitor='g_loss',\n",
        "                                      save_top_k=-1,\n",
        "                                      save_last=True,\n",
        "                                      save_weights_only=True,\n",
        "                                      verbose=True,\n",
        "                                      mode='min')\n",
        "\n",
        "# Exp2: Learning Rate Monitor\n",
        "lr_monitor = LearningRateMonitor(logging_interval='step', log_momentum=False)\n",
        "\n",
        "# Earlystopping\n",
        "# earlystopping = EarlyStopping(monitor='val_d_acc', patience=3, mode='min')"
      ],
      "metadata": {
        "id": "IMhsymGETCPd"
      },
      "execution_count": null,
      "outputs": []
    },
    {
      "cell_type": "markdown",
      "source": [
        "## Trainer"
      ],
      "metadata": {
        "id": "PafBi2NoTPh6"
      }
    },
    {
      "cell_type": "code",
      "source": [
        "trainer = pl.Trainer(fast_dev_run=False,    # For debugging purposes\n",
        "                     log_every_n_steps=1,   # set the logging frequency\n",
        "                     accelerator='auto',    # Precedence: tpu > gpu >> cpu\n",
        "                     devices=\"auto\",        # all\n",
        "                     max_epochs= 5,         # CONFIG['NUM_EPOCHS'],\n",
        "                     callbacks=[TQDMProgressBar(refresh_rate=25), \n",
        "                                checkpoint_callback, \n",
        "                                lr_monitor],\n",
        "                     logger=wandb_logger,    # wandb <3\n",
        "                     )"
      ],
      "metadata": {
        "colab": {
          "base_uri": "https://localhost:8080/"
        },
        "id": "gPteL0AuTO7p",
        "outputId": "2c59567d-2bef-42cf-dae7-81698c57531a"
      },
      "execution_count": null,
      "outputs": [
        {
          "output_type": "stream",
          "name": "stderr",
          "text": [
            "INFO: GPU available: True (cuda), used: True\n",
            "INFO:lightning.pytorch.utilities.rank_zero:GPU available: True (cuda), used: True\n",
            "INFO: TPU available: False, using: 0 TPU cores\n",
            "INFO:lightning.pytorch.utilities.rank_zero:TPU available: False, using: 0 TPU cores\n",
            "INFO: IPU available: False, using: 0 IPUs\n",
            "INFO:lightning.pytorch.utilities.rank_zero:IPU available: False, using: 0 IPUs\n",
            "INFO: HPU available: False, using: 0 HPUs\n",
            "INFO:lightning.pytorch.utilities.rank_zero:HPU available: False, using: 0 HPUs\n"
          ]
        }
      ]
    },
    {
      "cell_type": "markdown",
      "source": [
        "## Training"
      ],
      "metadata": {
        "id": "lL4nBV6eTXua"
      }
    },
    {
      "cell_type": "code",
      "source": [
        "trainer.fit(wgan, train_dataloader)"
      ],
      "metadata": {
        "colab": {
          "base_uri": "https://localhost:8080/",
          "height": 659,
          "referenced_widgets": [
            "c107f7bdc4a14bbfb0b4214f3bd402b2",
            "46ad1f81a5f04c37b2049078cf792781",
            "f4c4d63aaeb74e1e9e535dd4b9df1a95",
            "5d4c6e6a6ba04f4a9410f993f7c95a78",
            "8c8200d4cdd841b78594d0d5600d882d",
            "4561993334bd42bc95bc87c878ba04d8",
            "15c8b3a9274e42c7a0c338428f2102ca",
            "ac3b380a49304319b23d3fe9f1b2f575",
            "fba31e0c981e46bcaf48acde9214b219",
            "7d35a3881b1546adbc25976d749bc0b9",
            "3371d8c5be574626850532667605b343"
          ]
        },
        "id": "K1_kqDmpTSGC",
        "outputId": "af7e22f7-21db-451d-d668-89cebf38434b"
      },
      "execution_count": null,
      "outputs": [
        {
          "output_type": "stream",
          "name": "stderr",
          "text": [
            "INFO: LOCAL_RANK: 0 - CUDA_VISIBLE_DEVICES: [0]\n",
            "INFO:lightning.pytorch.accelerators.cuda:LOCAL_RANK: 0 - CUDA_VISIBLE_DEVICES: [0]\n",
            "INFO: \n",
            "  | Name          | Type          | Params\n",
            "------------------------------------------------\n",
            "0 | discriminator | Discriminator | 566 K \n",
            "1 | generator     | Generator     | 579 K \n",
            "------------------------------------------------\n",
            "1.1 M     Trainable params\n",
            "0         Non-trainable params\n",
            "1.1 M     Total params\n",
            "4.584     Total estimated model params size (MB)\n",
            "INFO:lightning.pytorch.callbacks.model_summary:\n",
            "  | Name          | Type          | Params\n",
            "------------------------------------------------\n",
            "0 | discriminator | Discriminator | 566 K \n",
            "1 | generator     | Generator     | 579 K \n",
            "------------------------------------------------\n",
            "1.1 M     Trainable params\n",
            "0         Non-trainable params\n",
            "1.1 M     Total params\n",
            "4.584     Total estimated model params size (MB)\n"
          ]
        },
        {
          "output_type": "display_data",
          "data": {
            "text/plain": [
              "Training: 0it [00:00, ?it/s]"
            ],
            "application/vnd.jupyter.widget-view+json": {
              "version_major": 2,
              "version_minor": 0,
              "model_id": "c107f7bdc4a14bbfb0b4214f3bd402b2"
            }
          },
          "metadata": {}
        },
        {
          "output_type": "stream",
          "name": "stderr",
          "text": [
            "INFO: Epoch 0, global step 5628: 'g_loss' reached 0.09984 (best 0.09984), saving model to '/content/checkpoints/epoch=0-g_loss=0.100.ckpt' as top 1\n",
            "INFO:lightning.pytorch.utilities.rank_zero:Epoch 0, global step 5628: 'g_loss' reached 0.09984 (best 0.09984), saving model to '/content/checkpoints/epoch=0-g_loss=0.100.ckpt' as top 1\n",
            "INFO: Epoch 1, global step 11256: 'g_loss' reached -0.00349 (best -0.00349), saving model to '/content/checkpoints/epoch=1-g_loss=-0.003.ckpt' as top 2\n",
            "INFO:lightning.pytorch.utilities.rank_zero:Epoch 1, global step 11256: 'g_loss' reached -0.00349 (best -0.00349), saving model to '/content/checkpoints/epoch=1-g_loss=-0.003.ckpt' as top 2\n",
            "INFO: Epoch 2, global step 16884: 'g_loss' reached -0.04760 (best -0.04760), saving model to '/content/checkpoints/epoch=2-g_loss=-0.048.ckpt' as top 3\n",
            "INFO:lightning.pytorch.utilities.rank_zero:Epoch 2, global step 16884: 'g_loss' reached -0.04760 (best -0.04760), saving model to '/content/checkpoints/epoch=2-g_loss=-0.048.ckpt' as top 3\n",
            "INFO: Epoch 3, global step 22512: 'g_loss' reached -0.10715 (best -0.10715), saving model to '/content/checkpoints/epoch=3-g_loss=-0.107.ckpt' as top 4\n",
            "INFO:lightning.pytorch.utilities.rank_zero:Epoch 3, global step 22512: 'g_loss' reached -0.10715 (best -0.10715), saving model to '/content/checkpoints/epoch=3-g_loss=-0.107.ckpt' as top 4\n",
            "INFO: Epoch 4, global step 28140: 'g_loss' reached -0.04004 (best -0.10715), saving model to '/content/checkpoints/epoch=4-g_loss=-0.040.ckpt' as top 5\n",
            "INFO:lightning.pytorch.utilities.rank_zero:Epoch 4, global step 28140: 'g_loss' reached -0.04004 (best -0.10715), saving model to '/content/checkpoints/epoch=4-g_loss=-0.040.ckpt' as top 5\n",
            "INFO: `Trainer.fit` stopped: `max_epochs=5` reached.\n",
            "INFO:lightning.pytorch.utilities.rank_zero:`Trainer.fit` stopped: `max_epochs=5` reached.\n"
          ]
        }
      ]
    },
    {
      "cell_type": "markdown",
      "source": [
        "## Call Finish on Exp logger"
      ],
      "metadata": {
        "id": "aEHG4cjBgIMO"
      }
    },
    {
      "cell_type": "code",
      "source": [
        "wandb.finish()"
      ],
      "metadata": {
        "colab": {
          "base_uri": "https://localhost:8080/",
          "height": 375,
          "referenced_widgets": [
            "a864d9a2fd9944879a81fdbb1a05f37d",
            "06d4afa84c7c414fb3001e0aadba6979",
            "c3c02cd343254b81b7f9143d92f38f6d",
            "66285ca0595646e08dd075e957337fbb",
            "d740c575bd604ce9ac841609b362b427",
            "ee0ba344b2e14a28b97a442c5e0ce133",
            "83a3161f2def49d2a0bfedd6b708ce75",
            "32e403390dd84bbebbdf69184ec0be9e"
          ]
        },
        "id": "9_3-dK_FgF2m",
        "outputId": "e2c4ffb7-7d67-4f3d-8f0f-50138f9cc25c"
      },
      "execution_count": null,
      "outputs": [
        {
          "output_type": "display_data",
          "data": {
            "text/plain": [
              "<IPython.core.display.HTML object>"
            ],
            "text/html": [
              "Waiting for W&B process to finish... <strong style=\"color:green\">(success).</strong>"
            ]
          },
          "metadata": {}
        },
        {
          "output_type": "display_data",
          "data": {
            "text/plain": [
              "VBox(children=(Label(value='8.411 MB of 11.824 MB uploaded (0.000 MB deduped)\\r'), FloatProgress(value=0.71138…"
            ],
            "application/vnd.jupyter.widget-view+json": {
              "version_major": 2,
              "version_minor": 0,
              "model_id": "a864d9a2fd9944879a81fdbb1a05f37d"
            }
          },
          "metadata": {}
        },
        {
          "output_type": "display_data",
          "data": {
            "text/plain": [
              "<IPython.core.display.HTML object>"
            ],
            "text/html": [
              "<style>\n",
              "    table.wandb td:nth-child(1) { padding: 0 10px; text-align: left ; width: auto;} td:nth-child(2) {text-align: left ; width: 100%}\n",
              "    .wandb-row { display: flex; flex-direction: row; flex-wrap: wrap; justify-content: flex-start; width: 100% }\n",
              "    .wandb-col { display: flex; flex-direction: column; flex-basis: 100%; flex: 1; padding: 10px; }\n",
              "    </style>\n",
              "<div class=\"wandb-row\"><div class=\"wandb-col\"><h3>Run history:</h3><br/><table class=\"wandb\"><tr><td>d_loss_step</td><td>█▇▁▃█▇▂▂▄▄▄▅█▅▁▄▄▅▆▇█▇▅▅▆▅▄▄▃▄▃▃▃▃▃▃▃▃▃▃</td></tr><tr><td>epoch</td><td>▁▁▁▁▁▁▁▁▁▁▁▁▁▁▁▁▁▁▁▁▁▁▁▁▁▁▁▁▁▁▁▁▁▁▁▁▁▁▁▁</td></tr><tr><td>g_loss_step</td><td>▃▃▅▆▃▃▄▅▇▇██▃▄▇▇██▇▆▅▃▄▃▃▁▂▂▂▂▃▃▃▃▂▁▄▁▃▄</td></tr><tr><td>lr-RMSprop</td><td>▁▁▁▁▁▁▁▁▁▁▁▁▁▁▁▁▁▁▁▁▁▁▁▁▁▁▁▁▁▁▁▁▁▁▁▁▁▁▁▁</td></tr><tr><td>lr-RMSprop-1</td><td>▁▁▁▁▁▁▁▁▁▁▁▁▁▁▁▁▁▁▁▁▁▁▁▁▁▁▁▁▁▁▁▁▁▁▁▁▁▁▁▁</td></tr><tr><td>trainer/global_step</td><td>▁▁▂▁▁▁▂▂▂▃▃▃▁▁▂▂▂▂▃▃▃▃▄▄▄▄▅▅▅▅▆▆▆▆▇▇▇▇██</td></tr></table><br/></div><div class=\"wandb-col\"><h3>Run summary:</h3><br/><table class=\"wandb\"><tr><td>d_loss_step</td><td>-0.5072</td></tr><tr><td>epoch</td><td>0</td></tr><tr><td>g_loss_step</td><td>0.38969</td></tr><tr><td>lr-RMSprop</td><td>5e-05</td></tr><tr><td>lr-RMSprop-1</td><td>5e-05</td></tr><tr><td>trainer/global_step</td><td>303</td></tr></table><br/></div></div>"
            ]
          },
          "metadata": {}
        },
        {
          "output_type": "display_data",
          "data": {
            "text/plain": [
              "<IPython.core.display.HTML object>"
            ],
            "text/html": [
              " View run <strong style=\"color:#cdcd00\">exp-1_sanity</strong> at: <a href='https://wandb.ai/aryangarg019/M2-WCGAN/runs/cqbzy6f9' target=\"_blank\">https://wandb.ai/aryangarg019/M2-WCGAN/runs/cqbzy6f9</a><br/>Synced 5 W&B file(s), 6300 media file(s), 0 artifact file(s) and 0 other file(s)"
            ]
          },
          "metadata": {}
        },
        {
          "output_type": "display_data",
          "data": {
            "text/plain": [
              "<IPython.core.display.HTML object>"
            ],
            "text/html": [
              "Find logs at: <code>./wandb/run-20230504_014340-cqbzy6f9/logs</code>"
            ]
          },
          "metadata": {}
        }
      ]
    },
    {
      "cell_type": "markdown",
      "source": [
        "## WGAN-GP"
      ],
      "metadata": {
        "id": "EWMWPrHGmTIp"
      }
    },
    {
      "cell_type": "markdown",
      "source": [
        "### Gen"
      ],
      "metadata": {
        "id": "f6VQ4586mmWh"
      }
    },
    {
      "cell_type": "code",
      "source": [
        "class Generator(nn.Module):\n",
        "    def __init__(self, latent_dim, img_shape):\n",
        "        super(Generator, self).__init__()\n",
        "        self.img_shape = img_shape\n",
        "\n",
        "        def block(in_feat, out_feat, normalize=True):\n",
        "            layers = [nn.Linear(in_feat, out_feat)]\n",
        "            if normalize:\n",
        "                layers.append(nn.BatchNorm1d(out_feat, 0.8))\n",
        "            layers.append(nn.LeakyReLU(0.2, inplace=True))\n",
        "            return layers\n",
        "\n",
        "        self.model = nn.Sequential(\n",
        "            *block(latent_dim, 128, normalize=False),\n",
        "            *block(128, 256),\n",
        "            *block(256, 512),\n",
        "            *block(512, 1024),\n",
        "            nn.Linear(1024, int(np.prod(img_shape))),\n",
        "            nn.Tanh()\n",
        "        )\n",
        "\n",
        "    def forward(self, z):\n",
        "        img = self.model(z)\n",
        "        img = img.view(img.shape[0], *self.img_shape)\n",
        "        return img"
      ],
      "metadata": {
        "id": "KwquRjwSmYiI"
      },
      "execution_count": null,
      "outputs": []
    },
    {
      "cell_type": "markdown",
      "source": [
        "### Disc"
      ],
      "metadata": {
        "id": "Dy-yL4nAmoGH"
      }
    },
    {
      "cell_type": "code",
      "source": [
        "class Discriminator(nn.Module):\n",
        "    def __init__(self, img_shape):\n",
        "        super(Discriminator, self).__init__()\n",
        "\n",
        "        self.model = nn.Sequential(\n",
        "            nn.Linear(int(np.prod(img_shape)), 512),\n",
        "            nn.LeakyReLU(0.2, inplace=True),\n",
        "            nn.Linear(512, 256),\n",
        "            nn.LeakyReLU(0.2, inplace=True),\n",
        "            nn.Linear(256, 1),\n",
        "        )\n",
        "\n",
        "    def forward(self, img):\n",
        "        img_flat = img.view(img.shape[0], -1)\n",
        "        validity = self.model(img_flat)\n",
        "        return validity"
      ],
      "metadata": {
        "id": "LU8qIWS4maZ_"
      },
      "execution_count": null,
      "outputs": []
    },
    {
      "cell_type": "markdown",
      "source": [
        "### Recipe"
      ],
      "metadata": {
        "id": "URGxcb9gmqPj"
      }
    },
    {
      "cell_type": "code",
      "source": [
        "class LIT_WGANGP(LightningModule):\n",
        "    def __init__(self,\n",
        "                 latent_dim: int = 100,\n",
        "                 lr: float = 0.0002,\n",
        "                 b1: float = 0.5,\n",
        "                 b2: float = 0.999,\n",
        "                 batch_size: int = 64, **kwargs):\n",
        "        super().__init__()\n",
        "        self.save_hyperparameters()\n",
        "\n",
        "        self.latent_dim = latent_dim\n",
        "        self.lr = lr\n",
        "        self.b1 = b1\n",
        "        self.b2 = b2\n",
        "        self.batch_size = batch_size\n",
        "\n",
        "        # networks\n",
        "        mnist_shape = (1, 28, 28)\n",
        "        self.generator = Generator(latent_dim=self.latent_dim, img_shape=mnist_shape)\n",
        "        self.discriminator = Discriminator(img_shape=mnist_shape)\n",
        "\n",
        "        self.validation_z = torch.randn(8, self.latent_dim)\n",
        "\n",
        "        self.example_input_array = torch.zeros(2, self.latent_dim)\n",
        "\n",
        "    def forward(self, z):\n",
        "        return self.generator(z)\n",
        "\n",
        "    def compute_gradient_penalty(self, real_samples, fake_samples):\n",
        "        # Random weight term for interpolation between real and fake samples\n",
        "        alpha = torch.Tensor(np.random.random((real_samples.size(0), 1, 1, 1))).to(self.device)\n",
        "        # Get random interpolation between real and fake samples\n",
        "        interpolates = (alpha * real_samples + ((1 - alpha) * fake_samples)).requires_grad_(True)\n",
        "        interpolates = interpolates.to(self.device)\n",
        "        d_interpolates = self.discriminator(interpolates)\n",
        "        fake = torch.Tensor(real_samples.shape[0], 1).fill_(1.0).to(self.device)\n",
        "        # Get gradient w.r.t. interpolates\n",
        "        gradients = torch.autograd.grad(\n",
        "            outputs=d_interpolates,\n",
        "            inputs=interpolates,\n",
        "            grad_outputs=fake,\n",
        "            create_graph=True,\n",
        "            retain_graph=True,\n",
        "            only_inputs=True,\n",
        "        )[0]\n",
        "        gradients = gradients.view(gradients.size(0), -1).to(self.device)\n",
        "        gradient_penalty = ((gradients.norm(2, dim=1) - 1) ** 2).mean()\n",
        "        return gradient_penalty\n",
        "\n",
        "    def training_step(self, batch, batch_idx, optimizer_idx):\n",
        "        imgs, _ = batch\n",
        "\n",
        "        # sample noise\n",
        "        z = torch.randn(imgs.shape[0], self.latent_dim)\n",
        "        z = z.type_as(imgs)\n",
        "\n",
        "        lambda_gp = 10\n",
        "\n",
        "        # train generator\n",
        "        if optimizer_idx == 0:\n",
        "\n",
        "            # generate images\n",
        "            self.generated_imgs = self(z)\n",
        "\n",
        "            # log sampled images\n",
        "            sample_imgs = self.generated_imgs[:6]\n",
        "            grid = torchvision.utils.make_grid(sample_imgs)\n",
        "            self.logger.experiment.add_image('generated_images', grid, 0)\n",
        "\n",
        "            # ground truth result (ie: all fake)\n",
        "            # put on GPU because we created this tensor inside training_loop\n",
        "            valid = torch.ones(imgs.size(0), 1)\n",
        "            valid = valid.type_as(imgs)\n",
        "\n",
        "            g_loss = -torch.mean(self.discriminator(self(z)))\n",
        "            tqdm_dict = {'g_loss': g_loss}\n",
        "            output = OrderedDict({\n",
        "                'loss': g_loss,\n",
        "                'progress_bar': tqdm_dict,\n",
        "                'log': tqdm_dict\n",
        "            })\n",
        "            return output\n",
        "\n",
        "        # train discriminator\n",
        "        # Measure discriminator's ability to classify real from generated samples\n",
        "        elif optimizer_idx == 1:\n",
        "            fake_imgs = self(z)\n",
        "\n",
        "            # Real images\n",
        "            real_validity = self.discriminator(imgs)\n",
        "            # Fake images\n",
        "            fake_validity = self.discriminator(fake_imgs)\n",
        "            # Gradient penalty\n",
        "            gradient_penalty = self.compute_gradient_penalty(imgs.data, fake_imgs.data)\n",
        "            # Adversarial loss\n",
        "            d_loss = -torch.mean(real_validity) + torch.mean(fake_validity) + lambda_gp * gradient_penalty\n",
        "\n",
        "            tqdm_dict = {'d_loss': d_loss}\n",
        "            output = OrderedDict({\n",
        "                'loss': d_loss,\n",
        "                'progress_bar': tqdm_dict,\n",
        "                'log': tqdm_dict\n",
        "            })\n",
        "            return output\n",
        "\n",
        "    def configure_optimizers(self):\n",
        "        n_critic = 5\n",
        "\n",
        "        lr = self.lr\n",
        "        b1 = self.b1\n",
        "        b2 = self.b2\n",
        "\n",
        "        opt_g = torch.optim.Adam(self.generator.parameters(), lr=lr, betas=(b1, b2))\n",
        "        opt_d = torch.optim.Adam(self.discriminator.parameters(), lr=lr, betas=(b1, b2))\n",
        "        return (\n",
        "            {'optimizer': opt_g, 'frequency': 1},\n",
        "            {'optimizer': opt_d, 'frequency': n_critic}\n",
        "        )\n",
        "\n",
        "    def train_dataloader(self):\n",
        "        transform = transforms.Compose([\n",
        "            transforms.ToTensor(),\n",
        "            transforms.Normalize([0.5], [0.5]),\n",
        "        ])\n",
        "        dataset = MNIST(os.getcwd(), train=True, download=True, transform=transform)\n",
        "        return DataLoader(dataset, batch_size=self.batch_size)\n",
        "\n",
        "    def on_epoch_end(self):\n",
        "        z = self.validation_z.to(self.device)\n",
        "\n",
        "        # log sampled images\n",
        "        sample_imgs = self(z)\n",
        "        grid = torchvision.utils.make_grid(sample_imgs)\n",
        "        self.logger.experiment.add_image('generated_images', grid, self.current_epoch)"
      ],
      "metadata": {
        "id": "6yHbuHrOmUTI"
      },
      "execution_count": null,
      "outputs": []
    },
    {
      "cell_type": "markdown",
      "source": [
        "### Model Init"
      ],
      "metadata": {
        "id": "E00RvsvPmsSA"
      }
    },
    {
      "cell_type": "code",
      "source": [
        "wgan_gp = LIT_WGANGP(batch_size=64) # Try smaller if fails on GPUs\n",
        "\n",
        "summary_gp = ModelSummary(wgan_gp, max_depth=-1)\n",
        "print(summary_gp)"
      ],
      "metadata": {
        "id": "SxdXXre_mhq_"
      },
      "execution_count": null,
      "outputs": []
    },
    {
      "cell_type": "markdown",
      "source": [
        "### Logger"
      ],
      "metadata": {
        "id": "0z3SbnIwm7QR"
      }
    },
    {
      "cell_type": "code",
      "source": [
        "wandb_logger = WandbLogger(project='M3-WGANGP', \n",
        "                           name='exp-1_sanity',\n",
        "                           config=CONFIG,\n",
        "                           job_type='train',\n",
        "                           log_model=\"all\")"
      ],
      "metadata": {
        "id": "EKougf5Km5SG"
      },
      "execution_count": null,
      "outputs": []
    },
    {
      "cell_type": "markdown",
      "source": [
        "### Callbacks"
      ],
      "metadata": {
        "id": "wEkKhmD0nALA"
      }
    },
    {
      "cell_type": "code",
      "source": [
        "# Checkpoint\n",
        "checkpoint_callback2 = ModelCheckpoint(dirpath=CONFIG['checkpoint_path'],\n",
        "                                      filename='{epoch}-{g_loss:.3f}',\n",
        "                                      monitor='g_loss',\n",
        "                                      save_top_k=-1,\n",
        "                                      save_last=True,\n",
        "                                      save_weights_only=True,\n",
        "                                      verbose=True,\n",
        "                                      mode='min')\n",
        "\n",
        "# Exp2: Learning Rate Monitor\n",
        "lr_monitor2 = LearningRateMonitor(logging_interval='step', log_momentum=False)\n",
        "\n",
        "# Earlystopping\n",
        "# earlystopping = EarlyStopping(monitor='val_d_acc', patience=3, mode='min')"
      ],
      "metadata": {
        "id": "0dpHRvGfm_gx"
      },
      "execution_count": null,
      "outputs": []
    },
    {
      "cell_type": "markdown",
      "source": [
        "### Trainer"
      ],
      "metadata": {
        "id": "ovbsqbOLoeTA"
      }
    },
    {
      "cell_type": "code",
      "source": [
        "trainer_gp = pl.Trainer(fast_dev_run=False,    # For debugging purposes\n",
        "                     log_every_n_steps=1,   # set the logging frequency\n",
        "                     accelerator='auto',    # Precedence: tpu > gpu >> cpu\n",
        "                     devices=\"auto\",        # all\n",
        "                     max_epochs= 5,         # CONFIG['NUM_EPOCHS'],\n",
        "                     callbacks=[TQDMProgressBar(refresh_rate=100), \n",
        "                                checkpoint_callback2, \n",
        "                                lr_monitor2],\n",
        "                     logger=wandb_logger,    # wandb <3\n",
        "                     )"
      ],
      "metadata": {
        "id": "_O1-VBMzm1ei"
      },
      "execution_count": null,
      "outputs": []
    },
    {
      "cell_type": "markdown",
      "source": [
        "### Fit\n",
        "**Re-use** train_dataloader from M2: WGAN :p"
      ],
      "metadata": {
        "id": "vc7kiaRQnRNo"
      }
    },
    {
      "cell_type": "code",
      "source": [
        "trainer_gp.fit(wgan_gp, train_dataloader)"
      ],
      "metadata": {
        "id": "DfYNui8HnIGp"
      },
      "execution_count": null,
      "outputs": []
    },
    {
      "cell_type": "markdown",
      "source": [
        "### Finish Logging Sesh!"
      ],
      "metadata": {
        "id": "SdXpZL20oi2p"
      }
    },
    {
      "cell_type": "code",
      "source": [
        "wandb.finish()"
      ],
      "metadata": {
        "id": "uaDn71y6nNyX"
      },
      "execution_count": null,
      "outputs": []
    },
    {
      "cell_type": "markdown",
      "source": [
        "##  Transforms (to experiment with)"
      ],
      "metadata": {
        "id": "eoZ8WrWJycE7"
      }
    },
    {
      "cell_type": "code",
      "source": [
        "transform = A.Compose([\n",
        "    A.CLAHE(),\n",
        "    A.RandomRotate90(),\n",
        "    A.ShiftScaleRotate(shift_limit=0.0625, scale_limit=0.50, rotate_limit=45, p=.75),\n",
        "    A.Blur(blur_limit=3),\n",
        "])"
      ],
      "metadata": {
        "id": "LYofkf_-yeMl"
      },
      "execution_count": null,
      "outputs": []
    },
    {
      "cell_type": "code",
      "source": [
        "transform = A.Compose([\n",
        "        A.RandomRotate90(),\n",
        "        A.Flip(),\n",
        "        A.Transpose(),\n",
        "        A.OneOf([\n",
        "            A.IAAAdditiveGaussianNoise(),\n",
        "            A.GaussNoise(),\n",
        "        ], p=0.2),\n",
        "        A.OneOf([\n",
        "            A.MotionBlur(p=.2),\n",
        "            A.MedianBlur(blur_limit=3, p=0.1),\n",
        "            A.Blur(blur_limit=3, p=0.1),\n",
        "        ], p=0.2),\n",
        "        A.ShiftScaleRotate(shift_limit=0.0625, scale_limit=0.2, rotate_limit=45, p=0.2),\n",
        "        A.OneOf([\n",
        "            A.OpticalDistortion(p=0.3),\n",
        "            A.GridDistortion(p=.1),\n",
        "            A.IAAPiecewiseAffine(p=0.3),\n",
        "        ], p=0.2),\n",
        "        A.OneOf([\n",
        "            A.CLAHE(clip_limit=2),\n",
        "            A.IAASharpen(),\n",
        "            A.IAAEmboss(),\n",
        "            A.RandomBrightnessContrast(),            \n",
        "        ], p=0.3),\n",
        "        A.HueSaturationValue(p=0.3),\n",
        "    ])"
      ],
      "metadata": {
        "id": "3sJY0PU6ynqW"
      },
      "execution_count": null,
      "outputs": []
    }
  ]
}